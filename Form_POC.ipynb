{
 "cells": [
  {
   "cell_type": "code",
   "execution_count": 1,
   "metadata": {
    "collapsed": true,
    "extensions": {
     "jupyter_dashboards": {
      "version": 1,
      "views": {
       "grid_default": {
        "col": 0,
        "height": 4,
        "hidden": false,
        "row": 0,
        "width": 4
       },
       "report_default": {
        "hidden": false
       }
      }
     }
    }
   },
   "outputs": [],
   "source": [
    "%load_ext autoreload\n",
    "%autoreload 2"
   ]
  },
  {
   "cell_type": "code",
   "execution_count": 2,
   "metadata": {
    "ExecuteTime": {
     "end_time": "2018-08-16T04:07:51.022401Z",
     "start_time": "2018-08-16T04:07:51.015831Z"
    },
    "collapse": true,
    "extensions": {
     "jupyter_dashboards": {
      "version": 1,
      "views": {
       "grid_default": {
        "hidden": true
       },
       "report_default": {
        "hidden": true
       }
      }
     }
    },
    "hide_input": true,
    "run_control": {
     "marked": true
    }
   },
   "outputs": [
    {
     "data": {
      "application/javascript": [
       "IPython.OutputArea.prototype._should_scroll = function(lines) {\n",
       "    return false\n",
       "}"
      ],
      "text/plain": [
       "<IPython.core.display.Javascript object>"
      ]
     },
     "metadata": {},
     "output_type": "display_data"
    }
   ],
   "source": [
    "%%javascript\n",
    "IPython.OutputArea.prototype._should_scroll = function(lines) {\n",
    "    return false\n",
    "}"
   ]
  },
  {
   "cell_type": "code",
   "execution_count": 3,
   "metadata": {
    "collapsed": true,
    "extensions": {
     "jupyter_dashboards": {
      "version": 1,
      "views": {
       "grid_default": {
        "hidden": true
       },
       "report_default": {
        "hidden": true
       }
      }
     }
    }
   },
   "outputs": [],
   "source": [
    "from CoreConfig.CoreConfig import CoreConfig\n",
    "from DBUtility.DBUtility import DBSQLiteConnection, CreateEventsTableIfNotExist, CreateNPSTableIfNotExist\n",
    "from DBUtility.DBUtility import FetchEventsRecordWithinSamePerson, FetchEventsLatestRecordWithSamePerson, FetchEventsRecordAll, FetchNPSRecordAll\n",
    "from DBUtility.DBUtility import InsertEventRecord, InsertNPSRecord\n",
    "from pandas import DataFrame\n",
    "import datetime\n",
    "\n",
    "\n",
    "import ipywidgets as widgets\n",
    "from ipywidgets import interact, interactive, fixed, interact_manual, interactive_output\n",
    "from IPython.display import display_pretty\n",
    "import pandas as pd\n",
    "from ipywidgets import Layout, Button, Box\n",
    "from StylingUtility.StylingUtility import CustomStyling\n",
    "\n",
    "# CoreConfig.initialize_core_config()\n",
    "# DBSQLiteConnection().configure_connection_information(**CoreConfig().get_sqlite3_db_connection_info())\n",
    "# CreateEventsTableIfNotExist().execute()\n"
   ]
  },
  {
   "cell_type": "markdown",
   "metadata": {
    "extensions": {
     "jupyter_dashboards": {
      "version": 1,
      "views": {
       "grid_default": {},
       "report_default": {
        "hidden": false
       }
      }
     }
    }
   },
   "source": [
    "### Prototype - Update Record"
   ]
  },
  {
   "cell_type": "code",
   "execution_count": 4,
   "metadata": {
    "collapsed": true,
    "extensions": {
     "jupyter_dashboards": {
      "version": 1,
      "views": {
       "grid_default": {},
       "report_default": {
        "hidden": true
       }
      }
     }
    }
   },
   "outputs": [],
   "source": [
    "from DBUtility.DBUtility import CreatePOCTableIfNotExist, InsertPOCRecord, FetchPOCRecordAll, DropTable, UpdatePOCRecord, GetPOCStatus"
   ]
  },
  {
   "cell_type": "code",
   "execution_count": 5,
   "metadata": {
    "extensions": {
     "jupyter_dashboards": {
      "version": 1,
      "views": {
       "grid_default": {},
       "report_default": {
        "hidden": true
       }
      }
     }
    }
   },
   "outputs": [
    {
     "name": "stderr",
     "output_type": "stream",
     "text": [
      "Initialize nab POC table failed. Please check your connection\n",
      "table nab_poc_status already exists\n"
     ]
    }
   ],
   "source": [
    "# get configuration details\n",
    "CoreConfig.initialize_core_config()\n",
    "\n",
    "# establish database connection\n",
    "DBSQLiteConnection().configure_connection_information(**CoreConfig().get_sqlite3_db_connection_info())\n",
    "\n",
    "# create table if not exist\n",
    "CreatePOCTableIfNotExist().execute()"
   ]
  },
  {
   "cell_type": "code",
   "execution_count": null,
   "metadata": {
    "collapsed": true,
    "extensions": {
     "jupyter_dashboards": {
      "version": 1,
      "views": {
       "grid_default": {},
       "report_default": {
        "hidden": true
       }
      }
     }
    }
   },
   "outputs": [],
   "source": [
    "DropTable('nab_poc_status').execute()"
   ]
  },
  {
   "cell_type": "code",
   "execution_count": 11,
   "metadata": {
    "collapsed": true,
    "extensions": {
     "jupyter_dashboards": {
      "version": 1,
      "views": {
       "grid_default": {},
       "report_default": {
        "hidden": true
       }
      }
     }
    }
   },
   "outputs": [],
   "source": [
    "InsertPOCRecord('POC_1', 'Old_Status').execute()\n",
    "InsertPOCRecord('POC_2', 'Old_Status').execute()\n",
    "InsertPOCRecord('POC_3', 'Old_Status').execute()\n",
    "InsertPOCRecord('POC_4', 'Old_Status').execute()\n",
    "InsertPOCRecord('POC_5', 'Old_Status').execute()"
   ]
  },
  {
   "cell_type": "code",
   "execution_count": null,
   "metadata": {
    "collapsed": true,
    "extensions": {
     "jupyter_dashboards": {
      "version": 1,
      "views": {
       "grid_default": {},
       "report_default": {
        "hidden": true
       }
      }
     }
    }
   },
   "outputs": [],
   "source": [
    "UpdatePOCRecord('POC_1', 'New_Status').execute()"
   ]
  },
  {
   "cell_type": "code",
   "execution_count": null,
   "metadata": {
    "collapsed": true,
    "extensions": {
     "jupyter_dashboards": {
      "version": 1,
      "views": {
       "grid_default": {},
       "report_default": {
        "hidden": true
       }
      }
     }
    }
   },
   "outputs": [],
   "source": []
  },
  {
   "cell_type": "code",
   "execution_count": 6,
   "metadata": {
    "extensions": {
     "jupyter_dashboards": {
      "version": 1,
      "views": {
       "grid_default": {},
       "report_default": {
        "hidden": false
       }
      }
     }
    }
   },
   "outputs": [
    {
     "data": {
      "application/vnd.jupyter.widget-view+json": {
       "model_id": "72bb83aaaf91447589c08e885d49a95f",
       "version_major": 2,
       "version_minor": 0
      },
      "text/plain": [
       "A Jupyter Widget"
      ]
     },
     "metadata": {},
     "output_type": "display_data"
    },
    {
     "data": {
      "application/vnd.jupyter.widget-view+json": {
       "model_id": "6419aa59d9e54e82a76ca72a55d12145",
       "version_major": 2,
       "version_minor": 0
      },
      "text/plain": [
       "A Jupyter Widget"
      ]
     },
     "metadata": {},
     "output_type": "display_data"
    }
   ],
   "source": [
    "df_out_poc = widgets.Output(layout={'border': '1px solid black', 'aligh_items' : 'center'})\n",
    "\n",
    "with df_out_poc:\n",
    "    df = DataFrame(FetchPOCRecordAll().execute(), columns=['POC_Name', 'POC_Status'])\n",
    "    display(df)\n",
    "\n",
    "\n",
    "POC_dict = {}\n",
    "POC_list = FetchPOCRecordAll().execute()\n",
    "for name in [row[0] for row in POC_list]:\n",
    "    POC_dict[name] = name\n",
    "    \n",
    "POC_Name = widgets.Dropdown(options= POC_dict,\n",
    "                           value = 'POC_1',\n",
    "                           description='Change status for:',\n",
    "                           layout=CustomStyling.box_layout,\n",
    "                           style=CustomStyling.style)\n",
    "\n",
    "default_status = 'New_Status'\n",
    "Status_Option = widgets.Dropdown(options= {'Old_Status': 'Old_Status',\n",
    "                                     'New_Status': 'New_Status'},\n",
    "                           value = default_status,\n",
    "                           description='Update status to:',\n",
    "                           layout=CustomStyling.box_layout,\n",
    "                           style=CustomStyling.style)\n",
    "\n",
    "\n",
    "\n",
    "\n",
    "\n",
    "button_to_update_form = widgets.Button(\n",
    "                       description='Update Form',\n",
    "                       disable=False,\n",
    "                       button_style ='', # success\n",
    "                       tooltip='Click me',\n",
    "                       icon='check'\n",
    "                       )\n",
    "\n",
    "def on_update_form_button_clicked_poc(b):\n",
    "    default_status = GetPOCStatus(POC_Name.value).execute()\n",
    "    Status_Option.value = default_status\n",
    "\n",
    "\n",
    "button_to_update_form.on_click(on_update_form_button_clicked_poc)\n",
    "\n",
    "\n",
    "\n",
    "\n",
    "\n",
    "\n",
    "\n",
    "button_poc = widgets.Button(\n",
    "           description='Update Status',\n",
    "           disable=False,\n",
    "           button_style ='', # success\n",
    "           tooltip='Click me',\n",
    "           icon='check'\n",
    "           )\n",
    "\n",
    "def on_submit_form_button_clicked_poc(b):\n",
    "#     outputs = { 'POC_Name' : [POC_Name.value],\n",
    "#                 'Status_Option' : [Status_Option.value]\n",
    "#                }\n",
    "    UpdatePOCRecord(POC_Name.value, Status_Option.value).execute()\n",
    "    df = DataFrame(FetchPOCRecordAll().execute(), columns=['POC_Name', 'POC_Status'])\n",
    "    df_out_poc.clear_output()\n",
    "    with df_out_poc:\n",
    "        display(df)\n",
    "        \n",
    "button_poc.on_click(on_submit_form_button_clicked_poc)\n",
    "\n",
    "\n",
    "\n",
    "\n",
    "\n",
    "# user interface organised using VBox (vertical)\n",
    "ui_poc = widgets.VBox(children=[df_out_poc,\n",
    "                            POC_Name,\n",
    "                            button_to_update_form,\n",
    "                            Status_Option,\n",
    "                            button_poc], layout=CustomStyling.items_layout)\n",
    "\n",
    "# live display of values, for debugging purposes\n",
    "def form_poc(POC_Name, Status_Option):\n",
    "    #display(POC_Name, Status_Option)\n",
    "    return POC_Name, Status_Option\n",
    "\n",
    "out_poc = interactive_output(form_poc, {'POC_Name': POC_Name,\n",
    "                                'Status_Option': Status_Option\n",
    "                               })\n",
    "\n",
    "display(ui_poc, out_poc)"
   ]
  }
 ],
 "metadata": {
  "celltoolbar": "Edit Metadata",
  "extensions": {
   "jupyter_dashboards": {
    "activeView": "report_default",
    "version": 1,
    "views": {
     "grid_default": {
      "cellMargin": 10,
      "defaultCellHeight": 20,
      "maxColumns": 12,
      "name": "grid",
      "type": "grid"
     },
     "report_default": {
      "name": "report",
      "type": "report"
     }
    }
   }
  },
  "gist": {
   "data": {
    "description": "Untitled.ipynb",
    "public": false
   },
   "id": ""
  },
  "kernelspec": {
   "display_name": "Python 3",
   "language": "python",
   "name": "python3"
  },
  "language_info": {
   "codemirror_mode": {
    "name": "ipython",
    "version": 3
   },
   "file_extension": ".py",
   "mimetype": "text/x-python",
   "name": "python",
   "nbconvert_exporter": "python",
   "pygments_lexer": "ipython3",
   "version": "3.6.3"
  },
  "latex_envs": {
   "LaTeX_envs_menu_present": true,
   "autoclose": true,
   "autocomplete": true,
   "bibliofile": "biblio.bib",
   "cite_by": "apalike",
   "current_citInitial": 1,
   "eqLabelWithNumbers": true,
   "eqNumInitial": 1,
   "hotkeys": {
    "equation": "Ctrl-E",
    "itemize": "Ctrl-I"
   },
   "labels_anchors": false,
   "latex_user_defs": false,
   "report_style_numbering": false,
   "user_envs_cfg": false
  },
  "toc": {
   "base_numbering": 1,
   "nav_menu": {},
   "number_sections": false,
   "sideBar": false,
   "skip_h1_title": false,
   "title_cell": "Table of Contents",
   "title_sidebar": "Contents",
   "toc_cell": false,
   "toc_position": {},
   "toc_section_display": false,
   "toc_window_display": false
  }
 },
 "nbformat": 4,
 "nbformat_minor": 2
}
