{
 "cells": [
  {
   "cell_type": "code",
   "execution_count": null,
   "metadata": {
    "extensions": {
     "jupyter_dashboards": {
      "version": 1,
      "views": {
       "grid_default": {
        "col": 0,
        "height": 4,
        "hidden": false,
        "row": 0,
        "width": 4
       },
       "report_default": {
        "hidden": false
       }
      }
     }
    }
   },
   "outputs": [],
   "source": [
    "%load_ext autoreload\n",
    "%autoreload 2"
   ]
  },
  {
   "cell_type": "code",
   "execution_count": 17,
   "metadata": {
    "ExecuteTime": {
     "end_time": "2018-08-16T04:07:51.022401Z",
     "start_time": "2018-08-16T04:07:51.015831Z"
    },
    "collapse": true,
    "extensions": {
     "jupyter_dashboards": {
      "version": 1,
      "views": {
       "grid_default": {
        "hidden": true
       },
       "report_default": {
        "hidden": true
       }
      }
     }
    },
    "hide_input": true,
    "run_control": {
     "marked": true
    }
   },
   "outputs": [
    {
     "data": {
      "application/javascript": [
       "IPython.OutputArea.prototype._should_scroll = function(lines) {\n",
       "    return false\n",
       "}"
      ],
      "text/plain": [
       "<IPython.core.display.Javascript object>"
      ]
     },
     "metadata": {},
     "output_type": "display_data"
    }
   ],
   "source": [
    "%%javascript\n",
    "IPython.OutputArea.prototype._should_scroll = function(lines) {\n",
    "    return false\n",
    "}"
   ]
  },
  {
   "cell_type": "code",
   "execution_count": 18,
   "metadata": {
    "extensions": {
     "jupyter_dashboards": {
      "version": 1,
      "views": {
       "grid_default": {
        "hidden": true
       },
       "report_default": {
        "hidden": true
       }
      }
     }
    }
   },
   "outputs": [],
   "source": [
    "from CoreConfig.CoreConfig import CoreConfig\n",
    "from DBUtility.DBUtility import DBSQLiteConnection, CreateEventsTableIfNotExist, CreateNPSTableIfNotExist\n",
    "from DBUtility.DBUtility import FetchEventsRecordWithinSamePerson, FetchEventsLatestRecordWithSamePerson, FetchEventsRecordAll, FetchNPSRecordAll\n",
    "from DBUtility.DBUtility import InsertEventRecord, InsertNPSRecord\n",
    "from pandas import DataFrame\n",
    "import datetime\n",
    "\n",
    "\n",
    "import ipywidgets as widgets\n",
    "from ipywidgets import interact, interactive, fixed, interact_manual, interactive_output\n",
    "from IPython.display import display_pretty\n",
    "import pandas as pd\n",
    "from ipywidgets import Layout, Button, Box\n",
    "from StylingUtility.StylingUtility import CustomStyling\n",
    "\n",
    "# CoreConfig.initialize_core_config()\n",
    "# DBSQLiteConnection().configure_connection_information(**CoreConfig().get_sqlite3_db_connection_info())\n",
    "# CreateEventsTableIfNotExist().execute()\n"
   ]
  },
  {
   "cell_type": "markdown",
   "metadata": {
    "extensions": {
     "jupyter_dashboards": {
      "version": 1,
      "views": {
       "grid_default": {
        "col": 8,
        "height": 4,
        "hidden": false,
        "row": 4,
        "width": 4
       },
       "report_default": {
        "hidden": false
       }
      }
     }
    }
   },
   "source": [
    "### NPS Form"
   ]
  },
  {
   "cell_type": "code",
   "execution_count": 19,
   "metadata": {
    "extensions": {
     "jupyter_dashboards": {
      "version": 1,
      "views": {
       "grid_default": {
        "hidden": true
       },
       "report_default": {
        "hidden": true
       }
      }
     }
    }
   },
   "outputs": [
    {
     "name": "stderr",
     "output_type": "stream",
     "text": [
      "Initialize nab NPS table failed. Please check your connection\n",
      "table nab_mobile_nps already exists\n"
     ]
    }
   ],
   "source": [
    "# get configuration details\n",
    "CoreConfig.initialize_core_config()\n",
    "\n",
    "# establish database connection\n",
    "DBSQLiteConnection().configure_connection_information(**CoreConfig().get_sqlite3_db_connection_info())\n",
    "\n",
    "# create table if not exist\n",
    "CreateNPSTableIfNotExist().execute()"
   ]
  },
  {
   "cell_type": "code",
   "execution_count": 20,
   "metadata": {
    "collapsed": true,
    "extensions": {
     "jupyter_dashboards": {
      "version": 1,
      "views": {
       "grid_default": {
        "hidden": true
       },
       "report_default": {
        "hidden": true
       }
      }
     }
    }
   },
   "outputs": [],
   "source": [
    "title_nps = widgets.HTML(\"<center><H3>Mobile NPS Survey</H3><center>\")\n",
    "\n",
    "formtitle_nps = widgets.HTML(\"<center><H3>Digital Channel - Internal Survey</H3><center>\")\n",
    "\n",
    "df_out_nps = widgets.Output(layout={'border': '1px solid black', 'aligh_items' : 'center'})\n",
    "\n",
    "with df_out_nps:\n",
    "    df = DataFrame(FetchNPSRecordAll().execute(), columns=['Date', 'Channel', 'Score', 'Thoughts', 'Comments'])\n",
    "    display(df)\n",
    "\n",
    "date = widgets.DatePicker(\n",
    "        value = datetime.datetime.now().date(),\n",
    "        description='Pick a Date',\n",
    "        layout=CustomStyling.box_layout,\n",
    "        style = CustomStyling.style,\n",
    "        disable=False)\n",
    "    \n",
    "channel = widgets.Dropdown(options= {'NAB Connect': 'NAB Connect',\n",
    "                                     'NAB Connect Mobile': 'NAB Connect Mobile',\n",
    "                                    'NAB Internet Banking':'NAB Internet Banking',\n",
    "                                    'NAB Mobile App': 'NAB Mobile App',\n",
    "                                    'NAB.com.au': 'NAB.com.au'},\n",
    "                           value = 'NAB Mobile App',\n",
    "                           description='Select channel:',\n",
    "                           layout=CustomStyling.box_layout,\n",
    "                           style=CustomStyling.style)\n",
    "\n",
    "q1 = widgets.IntSlider(\n",
    "        value=7,\n",
    "        min=0,\n",
    "        max=10,\n",
    "        step=1,\n",
    "        description='How likely are you to recommend working in the Mobile Service to others?:',\n",
    "        disabled=False,\n",
    "        continuous_update=False,\n",
    "        orientation='horizontal',\n",
    "        readout=True,\n",
    "        layout=CustomStyling.box_layout,\n",
    "        style=CustomStyling.style,\n",
    "        readout_format='d')\n",
    "    \n",
    "q2 = widgets.Text(\n",
    "      value='',\n",
    "      placeholder='Type Here',\n",
    "      description='Share your thoughts on how can we improve the Mobile Service?',\n",
    "      layout=CustomStyling.box_layout,\n",
    "       style=CustomStyling.style,\n",
    "      disable=False)\n",
    "\n",
    "q3 = widgets.Text(\n",
    "      value='',\n",
    "      placeholder='Type Here',\n",
    "      description='Any additional comments?',\n",
    "      layout=CustomStyling.box_layout,\n",
    "       style=CustomStyling.style,\n",
    "      disable=False)\n",
    "\n",
    "button_nps = widgets.Button(\n",
    "           description='Submit the form',\n",
    "           disable=False,\n",
    "           button_style ='', # success\n",
    "           tooltip='Click me',\n",
    "           icon='check'\n",
    "           )\n",
    "\n",
    "def on_submit_form_button_clicked_nps(b):\n",
    "    outputs = { 'date' : [date.value],\n",
    "                'channel' : [channel.value],\n",
    "                'q1' : [q1.value],\n",
    "                'q2' : [q2.value],\n",
    "                'q3' : [q3.value]\n",
    "               }\n",
    "    InsertNPSRecord(date.value, channel.value, q1.value, q2.value, q3.value).execute()\n",
    "    df = DataFrame(FetchNPSRecordAll().execute(), columns=['Date', 'Channel', 'Score', 'Thoughts', 'Comments'])\n",
    "    df_out_nps.clear_output()\n",
    "    with df_out_nps:\n",
    "        display(df)\n",
    "        \n",
    "button_nps.on_click(on_submit_form_button_clicked_nps)"
   ]
  },
  {
   "cell_type": "code",
   "execution_count": 21,
   "metadata": {
    "extensions": {
     "jupyter_dashboards": {
      "version": 1,
      "views": {
       "grid_default": {
        "col": 8,
        "height": 20,
        "hidden": false,
        "row": 8,
        "width": 4
       },
       "report_default": {
        "hidden": false
       }
      }
     }
    }
   },
   "outputs": [
    {
     "data": {
      "application/vnd.jupyter.widget-view+json": {
       "model_id": "d76d631a9d664d8b970d581b8c7e7e7a",
       "version_major": 2,
       "version_minor": 0
      },
      "text/plain": [
       "A Jupyter Widget"
      ]
     },
     "metadata": {},
     "output_type": "display_data"
    },
    {
     "data": {
      "application/vnd.jupyter.widget-view+json": {
       "model_id": "298bbc0d493d4c899e7d8b7da4917794",
       "version_major": 2,
       "version_minor": 0
      },
      "text/plain": [
       "A Jupyter Widget"
      ]
     },
     "metadata": {},
     "output_type": "display_data"
    }
   ],
   "source": [
    "# user interface organised using VBox (vertical)\n",
    "ui_nps = widgets.VBox(children=[title_nps,\n",
    "                            df_out_nps,\n",
    "                            formtitle_nps,\n",
    "                            date,\n",
    "                            channel,\n",
    "                            q1,\n",
    "                            q2,\n",
    "                            q3,\n",
    "                            button_nps], layout=CustomStyling.items_layout)\n",
    "\n",
    "# live display of values, for debugging purposes\n",
    "def form_nps(date, channel, q1, q2, q3):\n",
    "#     display(date, channel, q1, q2, q3)\n",
    "    return date, channel, q1, q2, q3\n",
    "\n",
    "out_nps = interactive_output(form_nps, {'date': date,\n",
    "                                'channel': channel,\n",
    "                                'q1' : q1,\n",
    "                                'q2':q2,\n",
    "                                'q3':q3\n",
    "                               })\n",
    "\n",
    "display(ui_nps, out_nps)"
   ]
  },
  {
   "cell_type": "code",
   "execution_count": null,
   "metadata": {
    "extensions": {
     "jupyter_dashboards": {
      "version": 1,
      "views": {
       "grid_default": {},
       "report_default": {
        "hidden": false
       }
      }
     }
    },
    "scrolled": true
   },
   "outputs": [],
   "source": [
    "out_nps.outputs"
   ]
  }
 ],
 "metadata": {
  "celltoolbar": "Edit Metadata",
  "extensions": {
   "jupyter_dashboards": {
    "activeView": "report_default",
    "version": 1,
    "views": {
     "grid_default": {
      "cellMargin": 10,
      "defaultCellHeight": 20,
      "maxColumns": 12,
      "name": "grid",
      "type": "grid"
     },
     "report_default": {
      "name": "report",
      "type": "report"
     }
    }
   }
  },
  "gist": {
   "data": {
    "description": "Untitled.ipynb",
    "public": false
   },
   "id": ""
  },
  "kernelspec": {
   "display_name": "Python 3",
   "language": "python",
   "name": "python3"
  },
  "language_info": {
   "codemirror_mode": {
    "name": "ipython",
    "version": 3
   },
   "file_extension": ".py",
   "mimetype": "text/x-python",
   "name": "python",
   "nbconvert_exporter": "python",
   "pygments_lexer": "ipython3",
   "version": "3.6.3"
  },
  "latex_envs": {
   "LaTeX_envs_menu_present": true,
   "autoclose": true,
   "autocomplete": true,
   "bibliofile": "biblio.bib",
   "cite_by": "apalike",
   "current_citInitial": 1,
   "eqLabelWithNumbers": true,
   "eqNumInitial": 1,
   "hotkeys": {
    "equation": "Ctrl-E",
    "itemize": "Ctrl-I"
   },
   "labels_anchors": false,
   "latex_user_defs": false,
   "report_style_numbering": false,
   "user_envs_cfg": false
  },
  "toc": {
   "base_numbering": 1,
   "nav_menu": {},
   "number_sections": false,
   "sideBar": false,
   "skip_h1_title": false,
   "title_cell": "Table of Contents",
   "title_sidebar": "Contents",
   "toc_cell": false,
   "toc_position": {},
   "toc_section_display": false,
   "toc_window_display": false
  }
 },
 "nbformat": 4,
 "nbformat_minor": 2
}
