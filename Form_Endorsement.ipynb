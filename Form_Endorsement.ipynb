{
 "cells": [
  {
   "cell_type": "code",
   "execution_count": 1,
   "metadata": {
    "extensions": {
     "jupyter_dashboards": {
      "version": 1,
      "views": {
       "grid_default": {
        "hidden": true
       },
       "report_default": {}
      }
     }
    }
   },
   "outputs": [],
   "source": [
    "%load_ext autoreload\n",
    "%autoreload 2"
   ]
  },
  {
   "cell_type": "code",
   "execution_count": 2,
   "metadata": {
    "extensions": {
     "jupyter_dashboards": {
      "version": 1,
      "views": {
       "grid_default": {
        "hidden": true
       },
       "report_default": {}
      }
     }
    }
   },
   "outputs": [
    {
     "data": {
      "application/javascript": [
       "IPython.OutputArea.prototype._should_scroll = function(lines) {\n",
       "    return false\n",
       "}"
      ],
      "text/plain": [
       "<IPython.core.display.Javascript object>"
      ]
     },
     "metadata": {},
     "output_type": "display_data"
    }
   ],
   "source": [
    "%%javascript\n",
    "IPython.OutputArea.prototype._should_scroll = function(lines) {\n",
    "    return false\n",
    "}"
   ]
  },
  {
   "cell_type": "code",
   "execution_count": 15,
   "metadata": {
    "extensions": {
     "jupyter_dashboards": {
      "version": 1,
      "views": {
       "grid_default": {
        "hidden": true
       },
       "report_default": {}
      }
     }
    }
   },
   "outputs": [],
   "source": [
    "from CoreConfig.CoreConfig import CoreConfig\n",
    "from DBUtility.DBUtility import DBConnection, CreateEndorsementTableIfNotExist\n",
    "from DBUtility.DBUtility import FetchEndorsementRecordAll, FetchEndorsementRecordRecent\n",
    "from DBUtility.DBUtility import InsertEndorsementRecord\n",
    "from pandas import DataFrame\n",
    "import datetime\n",
    "\n",
    "\n",
    "import ipywidgets as widgets\n",
    "from ipywidgets import interact, interactive, fixed, interact_manual, interactive_output\n",
    "from IPython.display import display_pretty\n",
    "import pandas as pd\n",
    "from ipywidgets import Layout, Button, Box\n",
    "from StylingUtility.StylingUtility import CustomStyling\n",
    "\n",
    "# CoreConfig.initialize_core_config()\n",
    "# DBSQLiteConnection().configure_connection_information(**CoreConfig().get_sqlite3_db_connection_info())\n",
    "# CreateEventsTableIfNotExist().execute()"
   ]
  },
  {
   "cell_type": "markdown",
   "metadata": {
    "extensions": {
     "jupyter_dashboards": {
      "version": 1,
      "views": {
       "grid_default": {
        "col": 0,
        "height": 4,
        "hidden": true,
        "row": 0,
        "width": 4
       },
       "report_default": {}
      }
     }
    }
   },
   "source": [
    "### Endorsement Form - Insert"
   ]
  },
  {
   "cell_type": "code",
   "execution_count": 20,
   "metadata": {
    "extensions": {
     "jupyter_dashboards": {
      "version": 1,
      "views": {
       "grid_default": {
        "hidden": true
       },
       "report_default": {}
      }
     }
    }
   },
   "outputs": [
    {
     "name": "stderr",
     "output_type": "stream",
     "text": [
      "Initialize nab endorsement table failed. Please check your connection\n",
      "Relation \"nab_partnership_endorsed_initiatives\" already exists\n",
      "\n"
     ]
    }
   ],
   "source": [
    "# get configuration details\n",
    "CoreConfig.initialize_core_config()\n",
    "\n",
    "# establish database connection\n",
    "DBConnection().configure_connection_information(**CoreConfig().get_db_connection_info())\n",
    "\n",
    "# create table if not exist\n",
    "CreateEndorsementTableIfNotExist().execute()"
   ]
  },
  {
   "cell_type": "code",
   "execution_count": 10,
   "metadata": {},
   "outputs": [
    {
     "data": {
      "text/plain": [
       "[]"
      ]
     },
     "execution_count": 10,
     "metadata": {},
     "output_type": "execute_result"
    }
   ],
   "source": [
    "FetchEndorsementRecordAll().execute()"
   ]
  },
  {
   "cell_type": "code",
   "execution_count": 38,
   "metadata": {
    "extensions": {
     "jupyter_dashboards": {
      "version": 1,
      "views": {
       "grid_default": {
        "col": 0,
        "height": 25,
        "hidden": false,
        "row": 0,
        "width": 12
       },
       "report_default": {}
      }
     }
    }
   },
   "outputs": [
    {
     "data": {
      "application/vnd.jupyter.widget-view+json": {
       "model_id": "6b2406016f364bf6bec1d0cd9f6f75fa",
       "version_major": 2,
       "version_minor": 0
      },
      "text/plain": [
       "VBox(children=(HTML(value='<center><H3>Recent Entries</H3><center>'), Output(layout=Layout(border='1px solid b…"
      ]
     },
     "metadata": {},
     "output_type": "display_data"
    },
    {
     "data": {
      "application/vnd.jupyter.widget-view+json": {
       "model_id": "f075cdee2df14f1a9b7160e5b76de04f",
       "version_major": 2,
       "version_minor": 0
      },
      "text/plain": [
       "Output()"
      ]
     },
     "metadata": {},
     "output_type": "display_data"
    }
   ],
   "source": [
    "title = widgets.HTML(\"<center><H3>Recent Entries</H3><center>\")\n",
    "\n",
    "formtitle = widgets.HTML(\"<center><H3>NAB Partnership – Initiatives Creation Form</H3><center>\")\n",
    "\n",
    "df_out = widgets.Output(layout={'border': '1px solid black', 'aligh_items' : 'center'})\n",
    "\n",
    "with df_out:\n",
    "    df = DataFrame(FetchEndorsementRecordRecent().execute(), columns=['initiative_name', 'initiative_short_description', 'initiative_category', 'creation_date', 'type', 'stakeholder', 'team_recommendation', 'endorsement_execution', 'endorsement_execution_date', 'endorsement_body', 'system_creation_date'])\n",
    "    display(df)\n",
    "\n",
    "\n",
    "# date widgets\n",
    "creation_date = widgets.DatePicker(\n",
    "                value = datetime.datetime.now().date(),\n",
    "                description='Initiave Creation Date',\n",
    "                layout=CustomStyling.box_layout,\n",
    "                style = CustomStyling.style,\n",
    "                disable=False)\n",
    "\n",
    "endorsement_execution_date = widgets.DatePicker(\n",
    "                            value = datetime.datetime.now().date(),\n",
    "                            description='Endorsement / Execution Date',\n",
    "                            layout=CustomStyling.box_layout,\n",
    "                            style = CustomStyling.style,\n",
    "                            disable=False)\n",
    "\n",
    "# text widgets\n",
    "initiative_name = widgets.Text(\n",
    "                  value='',\n",
    "                  placeholder='Type Here',\n",
    "                  description='Initiative Name',\n",
    "                  layout=CustomStyling.box_layout,\n",
    "                   style=CustomStyling.style,\n",
    "                  disable=False)\n",
    "\n",
    "initiative_short_description = widgets.Text(\n",
    "                              value='',\n",
    "                              placeholder='Type Here',\n",
    "                              description='Initiative Short Description',\n",
    "                              layout=CustomStyling.box_layout,\n",
    "                               style=CustomStyling.style,\n",
    "                              disable=False)\n",
    "\n",
    "stakeholder = widgets.Text(\n",
    "                  value='',\n",
    "                  placeholder='Type Here',\n",
    "                  description='Stakeholder',\n",
    "                  layout=CustomStyling.box_layout,\n",
    "                   style=CustomStyling.style,\n",
    "                  disable=False)\n",
    "\n",
    "endorsement_body = widgets.Text(\n",
    "                  value='',\n",
    "                  placeholder='Type Here',\n",
    "                  description='Endorsement Body',\n",
    "                  layout=CustomStyling.box_layout,\n",
    "                   style=CustomStyling.style,\n",
    "                  disable=False)\n",
    "\n",
    "\n",
    "# dropdown    \n",
    "initiative_category = widgets.Dropdown(options= {'Open Banking': 'Open Banking',\n",
    "                                                 'Ecosystems': 'Ecosystems',\n",
    "                                                 'Other': 'Other'},\n",
    "                                       value = 'Ecosystems',\n",
    "                                       description='Initiative Category',\n",
    "                                       layout=CustomStyling.box_layout,\n",
    "                                       style=CustomStyling.style)\n",
    "\n",
    "type = widgets.Dropdown(options= {'Strategy': 'Strategy',\n",
    "                                     'Business Development': 'Business Development',\n",
    "                                     'Execution': 'Execution'},\n",
    "                                       value = 'Strategy',\n",
    "                                       description='Type',\n",
    "                                       layout=CustomStyling.box_layout,\n",
    "                                       style=CustomStyling.style)\n",
    "\n",
    "def on_type_value_change(change):\n",
    "#     print(change['owner'])\n",
    "    if change['owner'].value == 'Strategy' or change['owner'].value == 'Business Development':\n",
    "        team_recommendation.disabled=False\n",
    "    else:\n",
    "        team_recommendation.disabled=True\n",
    "type.observe(on_type_value_change, names='value')\n",
    "\n",
    "\n",
    "team_recommendation = widgets.Dropdown(options= {'Go': 'Go',\n",
    "                                     'No Go': 'No Go'},\n",
    "                                       value = 'Go',\n",
    "                                       description='Team Recommendation',\n",
    "                                       layout=CustomStyling.box_layout,\n",
    "                                       style=CustomStyling.style)\n",
    "\n",
    "# radio button\n",
    "endorsement_execution = widgets.RadioButtons(\n",
    "                        options=['Y', 'N'],\n",
    "                        value='Y',\n",
    "                        description='Endorsement / Execution',\n",
    "                        disabled=False,\n",
    "                        style=CustomStyling.style\n",
    "                    )\n",
    "\n",
    "# button\n",
    "button = widgets.Button(\n",
    "           description='Submit the form',\n",
    "           disable=False,\n",
    "           button_style ='', # success\n",
    "           tooltip='Click me',\n",
    "           icon='check'\n",
    "           )\n",
    "\n",
    "def on_submit_form_button_clicked(b):\n",
    "    outputs = { 'initiative_name': [initiative_name.value],\n",
    "                'initiative_short_description': [initiative_short_description.value],\n",
    "                'initiative_category': [initiative_category.value],\n",
    "                'creation_date': [creation_date.value],\n",
    "                'type': [type.value],\n",
    "                'stakeholder': [stakeholder.value],\n",
    "                'team_recommendation': [team_recommendation.value],\n",
    "                'endorsement_execution': [endorsement_execution.value],\n",
    "                'endorsement_execution_date': [endorsement_execution_date.value],\n",
    "                'endorsement_body': [endorsement_body.value]\n",
    "               }\n",
    "    InsertEndorsementRecord(initiative_name.value, initiative_short_description.value, initiative_category.value, creation_date.value, type.value, stakeholder.value, team_recommendation.value, endorsement_execution.value, endorsement_execution_date.value, endorsement_body.value).execute()\n",
    "    df = DataFrame(FetchEndorsementRecordRecent().execute(), columns=['initiative_name', 'initiative_short_description', 'initiative_category', 'creation_date', 'type', 'stakeholder', 'team_recommendation', 'endorsement_execution', 'endorsement_execution_date', 'endorsement_body', 'system_creation_date'])\n",
    "    df_out.clear_output()\n",
    "    with df_out:\n",
    "        display(df)\n",
    "        \n",
    "button.on_click(on_submit_form_button_clicked)\n",
    "\n",
    "\n",
    "\n",
    "\n",
    "\n",
    "\n",
    "# user interface organised using VBox (vertical)\n",
    "ui = widgets.VBox(children=[title,\n",
    "                            df_out,\n",
    "                            formtitle,\n",
    "                            initiative_name,\n",
    "                            initiative_short_description,\n",
    "                            initiative_category,\n",
    "                            creation_date,\n",
    "                            type,\n",
    "                            stakeholder,\n",
    "                            team_recommendation,\n",
    "                            endorsement_execution,\n",
    "                            endorsement_execution_date,\n",
    "                            endorsement_body,\n",
    "                            button], layout=CustomStyling.items_layout)\n",
    "\n",
    "# live display of values, for debugging purposes\n",
    "def form(initiative_name, initiative_short_description, initiative_category, creation_date, type, stakeholder, team_recommendation, endorsement_execution, endorsement_execution_date, endorsement_body):\n",
    "#     display(initiative_name, initiative_short_description, initiative_category, creation_date, type, stakeholder, team_recommendation, endorsement_execution, endorsement_execution_date, endorsement_body)\n",
    "    return initiative_name, initiative_short_description, initiative_category, creation_date, type, stakeholder, team_recommendation, endorsement_execution, endorsement_execution_date, endorsement_body\n",
    "\n",
    "out = interactive_output(form, {'initiative_name': initiative_name,\n",
    "                                    'initiative_short_description': initiative_short_description,\n",
    "                                    'initiative_category': initiative_category,\n",
    "                                    'creation_date': creation_date,\n",
    "                                    'type': type,\n",
    "                                    'stakeholder': stakeholder,\n",
    "                                    'team_recommendation': team_recommendation,\n",
    "                                    'endorsement_execution': endorsement_execution,\n",
    "                                    'endorsement_execution_date': endorsement_execution_date,\n",
    "                                    'endorsement_body': endorsement_body\n",
    "                               })\n",
    "\n",
    "display(ui, out)"
   ]
  },
  {
   "cell_type": "code",
   "execution_count": 36,
   "metadata": {},
   "outputs": [
    {
     "name": "stdout",
     "output_type": "stream",
     "text": [
      "Business Development\n"
     ]
    }
   ],
   "source": [
    "print(type.value)"
   ]
  },
  {
   "cell_type": "code",
   "execution_count": null,
   "metadata": {},
   "outputs": [],
   "source": []
  }
 ],
 "metadata": {
  "extensions": {
   "jupyter_dashboards": {
    "activeView": "grid_default",
    "version": 1,
    "views": {
     "grid_default": {
      "cellMargin": 10,
      "defaultCellHeight": 20,
      "maxColumns": 12,
      "name": "grid",
      "type": "grid"
     },
     "report_default": {
      "name": "report",
      "type": "report"
     }
    }
   }
  },
  "kernelspec": {
   "display_name": "Python 3",
   "language": "python",
   "name": "python3"
  },
  "language_info": {
   "codemirror_mode": {
    "name": "ipython",
    "version": 3
   },
   "file_extension": ".py",
   "mimetype": "text/x-python",
   "name": "python",
   "nbconvert_exporter": "python",
   "pygments_lexer": "ipython3",
   "version": "3.6.5"
  }
 },
 "nbformat": 4,
 "nbformat_minor": 2
}
