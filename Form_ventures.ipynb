{
 "cells": [
  {
   "cell_type": "code",
   "execution_count": 1,
   "metadata": {
    "extensions": {
     "jupyter_dashboards": {
      "version": 1,
      "views": {
       "grid_default": {
        "hidden": true
       },
       "report_default": {}
      }
     }
    }
   },
   "outputs": [],
   "source": [
    "%load_ext autoreload\n",
    "%autoreload 2"
   ]
  },
  {
   "cell_type": "code",
   "execution_count": 2,
   "metadata": {
    "ExecuteTime": {
     "end_time": "2018-08-16T04:07:51.022401Z",
     "start_time": "2018-08-16T04:07:51.015831Z"
    },
    "collapse": true,
    "extensions": {
     "jupyter_dashboards": {
      "version": 1,
      "views": {
       "grid_default": {
        "hidden": true
       },
       "report_default": {}
      }
     }
    },
    "hide_input": true,
    "run_control": {
     "marked": true
    }
   },
   "outputs": [
    {
     "data": {
      "application/javascript": [
       "IPython.OutputArea.prototype._should_scroll = function(lines) {\n",
       "    return false\n",
       "}"
      ],
      "text/plain": [
       "<IPython.core.display.Javascript object>"
      ]
     },
     "metadata": {},
     "output_type": "display_data"
    }
   ],
   "source": [
    "%%javascript\n",
    "IPython.OutputArea.prototype._should_scroll = function(lines) {\n",
    "    return false\n",
    "}\n"
   ]
  },
  {
   "cell_type": "code",
   "execution_count": 3,
   "metadata": {},
   "outputs": [],
   "source": [
    "IF_SQLITE = True"
   ]
  },
  {
   "cell_type": "code",
   "execution_count": 6,
   "metadata": {
    "extensions": {
     "jupyter_dashboards": {
      "version": 1,
      "views": {
       "grid_default": {
        "hidden": true
       },
       "report_default": {}
      }
     }
    }
   },
   "outputs": [
    {
     "name": "stderr",
     "output_type": "stream",
     "text": [
      "Initialize nab ventures events board             table failed. Please Check your connection\n",
      "table nab_ventures_events_board already exists\n",
      "Initialize Ventures team table            failed. Please Check your connection\n",
      "table NAB_VENTURES_TEAM already exists\n",
      "Initialize Ventures engagement table            failed. Please Check your connection\n",
      "table nab_ventures_engagement_types already exists\n"
     ]
    }
   ],
   "source": [
    "\n",
    "from CoreConfig.CoreConfig import CoreConfig\n",
    "if IF_SQLITE:\n",
    "    from DBUtility.SQLiteUtility import DBSQLiteConnection, CreateEventsTableIfNotExist, CreateVenturesTeamTableIfNotExist\n",
    "    from DBUtility.SQLiteUtility import FetchEventsRecordWithinSamePerson, FetchEventsLatestRecordWithSamePerson\n",
    "    from DBUtility.SQLiteUtility import FetchEventsRecordAll, FetchVenturesPerson, InsertVenturesPerson\n",
    "    from DBUtility.SQLiteUtility import InsertEventRecord\n",
    "    from DBUtility.SQLiteUtility import FetchVenturesEngagement, CreateVenturesEngagementTableIfNotExist\n",
    "else:\n",
    "    from DBUtility.DBUtility import DBConnection, CreateEventsTableIfNotExist, CreateVenturesTeamTableIfNotExist\n",
    "    from DBUtility.DBUtility import FetchEventsRecordWithinSamePerson, FetchEventsLatestRecordWithSamePerson\n",
    "    from DBUtility.DBUtility import FetchEventsRecordAll, FetchVenturesPerson, InsertVenturesPerson\n",
    "    from DBUtility.DBUtility import InsertEventRecord\n",
    "    from DBUtility.DBUtility import FetchVenturesEngagement, CreateVenturesEngagementTableIfNotExist\n",
    "from pandas import DataFrame\n",
    "import datetime\n",
    "CoreConfig.initialize_core_config()\n",
    "if IF_SQLITE:\n",
    "    DBSQLiteConnection().configure_connection_information(**CoreConfig().get_sqlite3_db_connection_info())\n",
    "else:\n",
    "    DBConnection().configure_connection_information(**CoreConfig().get_db_connection_info())\n",
    "\n",
    "CreateEventsTableIfNotExist().execute()\n",
    "\n",
    "CreateVenturesTeamTableIfNotExist().execute()\n",
    "\n",
    "CreateVenturesEngagementTableIfNotExist().execute()"
   ]
  },
  {
   "cell_type": "code",
   "execution_count": 7,
   "metadata": {
    "ExecuteTime": {
     "end_time": "2018-08-16T04:07:09.480996Z",
     "start_time": "2018-08-16T04:07:09.467320Z"
    },
    "code_folding": [],
    "extensions": {
     "jupyter_dashboards": {
      "version": 1,
      "views": {
       "grid_default": {
        "hidden": true
       },
       "report_default": {}
      }
     }
    },
    "hide_input": true,
    "hide_output": false,
    "run_control": {
     "marked": true
    },
    "slideshow": {
     "slide_type": "-"
    }
   },
   "outputs": [],
   "source": [
    "import ipywidgets as widgets\n",
    "from ipywidgets import interact, interactive, fixed, interact_manual, interactive_output\n",
    "from IPython.display import display_pretty\n",
    "import pandas as pd\n",
    "from ipywidgets import Layout, Button, Box\n",
    "items_layout = Layout(display='flex',\n",
    "                    flex_flow='auto',\n",
    "                     align_items='stretch',\n",
    "                      width='auto')     # override the default width of the button to 'auto' to let the button grow\n",
    "\n",
    "\n",
    "\n",
    "box_layout = Layout(display='flex',\n",
    "                    flex_flow='auto',\n",
    "                    align_items='center',\n",
    "                    width='auto')\n",
    "\n",
    "textarea_layout = Layout(display='flex',\n",
    "                    flex_flow='auto',\n",
    "                    align_items='center',\n",
    "                    width='auto',\n",
    "                    height='120px')\n",
    "\n",
    "style = {'description_width': 'initial'}"
   ]
  },
  {
   "cell_type": "code",
   "execution_count": 17,
   "metadata": {
    "ExecuteTime": {
     "end_time": "2018-08-16T04:07:13.439641Z",
     "start_time": "2018-08-16T04:07:13.377064Z"
    },
    "code_folding": [
     0,
     7,
     15,
     24,
     35,
     59,
     60,
     72
    ],
    "extensions": {
     "jupyter_dashboards": {
      "version": 1,
      "views": {
       "grid_default": {
        "hidden": true
       },
       "report_default": {}
      }
     }
    },
    "hide_input": true,
    "hide_output": false,
    "run_control": {
     "marked": true
    },
    "scrolled": true
   },
   "outputs": [],
   "source": [
    "title = widgets.HTML(\"<center><H3>Recent records</H3><center>\")\n",
    "formtitle = widgets.HTML(\"<center><H3>Submit Form</H3><center>\")\n",
    "df_out = widgets.Output(layout={'border': '1px solid black', 'aligh_items' : 'center'})\n",
    "with df_out:\n",
    "    df = DataFrame(FetchEventsLatestRecordWithSamePerson().execute(), columns=['Events Name', 'Person', 'Date'])\n",
    "    display(df)\n",
    "    \n",
    "events = widgets.Text(\n",
    "      value='',\n",
    "      placeholder='Type Events',\n",
    "      description='Events:',\n",
    "      layout=box_layout,\n",
    "       style=style,\n",
    "      disable=False)\n",
    "\n",
    "date = widgets.DatePicker(\n",
    "        value = datetime.datetime.now().date(),\n",
    "        description='Pick a Date',\n",
    "        layout=box_layout,\n",
    "        style = style,\n",
    "        disable=False)\n",
    "\n",
    "engagement_list = FetchVenturesEngagement().execute()\n",
    "engagement_dict = {v[0]:v[0] for i, v in enumerate(engagement_list)}\n",
    "\n",
    "\n",
    "engagement = widgets.Dropdown(options= engagement_dict,\n",
    "                               description='Engagement Type:',\n",
    "                               layout=box_layout,\n",
    "                               style=style)\n",
    "#display_pretty(name)\n",
    "notes=widgets.Text(\n",
    "      value='',\n",
    "      placeholder='Type note/organizer',\n",
    "      description='Note/ Organizer:',\n",
    "      layout=box_layout,\n",
    "       style=style,\n",
    "      disable=False)\n",
    "\n",
    "country = widgets.Dropdown(options= {'Australia': 'Australia',\n",
    "                                     'New Zealand': 'New Zealand',\n",
    "                                    'None':'None'},\n",
    "                           value = 'Australia',\n",
    "                           description='Select country:',\n",
    "                           layout=box_layout,\n",
    "                           style=style)\n",
    "location= widgets.Text(value='',\n",
    "                       placeholder='Type the location',\n",
    "                       description='Location:',\n",
    "                       layout=items_layout,\n",
    "                       style=style)\n",
    "\n",
    "audience= widgets.Text(value='0',\n",
    "                       placeholder='Type audience numbers',\n",
    "                       description='Audience:',\n",
    "                       layout=box_layout,\n",
    "                       style=style)\n",
    "\n",
    "quality = widgets.Dropdown(options= {'1': '1',\n",
    "                                     '2': '2',\n",
    "                                    '3':'3','4':'4','5':'5'},\n",
    "                           value = '3',\n",
    "                           description='Rate the event:',\n",
    "                           layout=box_layout,\n",
    "                           style=style\n",
    ")\n",
    "\n",
    "website= widgets.Text(value='https://',\n",
    "                       placeholder='Type website/context',\n",
    "                       description='Website:',\n",
    "                       layout=box_layout,\n",
    "                       style=style,\n",
    "                       disable=False)\n",
    "asset = widgets.Text(value='',\n",
    "                       placeholder='Type asset',\n",
    "                       description='Asset:',\n",
    "                       layout=box_layout,\n",
    "                       style=style,\n",
    "                       disable=False)\n",
    "\n",
    "\n",
    "person_list = FetchVenturesPerson().execute()\n",
    "person_dict = {v[0]:v[0] for i, v in enumerate(person_list)}\n",
    "person = widgets.Dropdown(\n",
    "                options= person_dict,\n",
    "                description='Select your person:',\n",
    "                layout=box_layout,\n",
    "                style=style\n",
    "              )\n",
    "\n",
    "new_person_check = widgets.Checkbox(\n",
    "    value=False,\n",
    "    description='Add new person',\n",
    "    disable = False\n",
    ")\n",
    "new_person_text = widgets.Text(\n",
    "      value='',\n",
    "      placeholder='Type your name',\n",
    "      description='New person to be added:',\n",
    "      layout=box_layout,\n",
    "       style=style,\n",
    "      disabled=True)\n",
    "\n",
    "new_person_button = widgets.Button(\n",
    "    description='Submit',\n",
    "    disabled=True,\n",
    "    button_style ='', # success\n",
    "    tooltip='Click me',\n",
    "    icon='check')\n",
    "\n",
    "\n",
    "\n",
    "new_person_box = widgets.HBox([new_person_check, new_person_text, new_person_button])\n",
    "\n",
    "button = widgets.Button(\n",
    "           description='Submit the form',\n",
    "           disable=False,\n",
    "           button_style ='', # success\n",
    "           tooltip='Click me',\n",
    "           icon='check'\n",
    "           )\n",
    "\n",
    "def on_add_new_name_value_change(change):\n",
    "    if change['new'] == True:\n",
    "        new_person_text.disabled=False\n",
    "        new_person_button.disabled=False\n",
    "    else:\n",
    "        new_person_text.disabled=True\n",
    "        new_person_button.disabled=True\n",
    "\n",
    "\n",
    "def on_submit_add_new_name_button_clicked(b):\n",
    "    '''Check the local person_dict, if not included, \n",
    "    then added and refresh\n",
    "    '''\n",
    "    temp_variable = person.options.copy()\n",
    "    new_person = new_person_text.value\n",
    "    temp_variable[new_person] = new_person\n",
    "    person.options = temp_variable\n",
    "    new_person_check.value = False\n",
    "    new_person_text.disabled=True\n",
    "    new_person_button.disabled=True\n",
    "    InsertVenturesPerson(new_person).execute()\n",
    "\n",
    "new_person_check.observe(on_add_new_name_value_change, names='value')\n",
    "new_person_button.on_click(on_submit_add_new_name_button_clicked)\n",
    "def on_submit_form_button_clicked(b):\n",
    "    InsertEventRecord(events.value, date.value, engagement.value, notes.value,\n",
    "                      country.value, location.value, quality.value, audience.value, website.value, asset.value, person.value).execute()\n",
    "    df = DataFrame(FetchEventsLatestRecordWithSamePerson().execute(), columns=['Events Name', 'Person', 'Date'])\n",
    "    df_out.clear_output()\n",
    "    with df_out:\n",
    "        display(df)\n",
    "button.on_click(on_submit_form_button_clicked)"
   ]
  },
  {
   "cell_type": "code",
   "execution_count": 18,
   "metadata": {
    "extensions": {
     "jupyter_dashboards": {
      "version": 1,
      "views": {
       "grid_default": {
        "hidden": true
       },
       "report_default": {}
      }
     }
    }
   },
   "outputs": [],
   "source": [
    "def form(events, date, engagement, notes, country, location, audience,quality, website, asset, person, new_person_name):\n",
    "    #display(events, meeting, date, name, notes, country, audience, website, asset, person)\n",
    "    return events, date, engagement, notes, country, location, audience,quality, website, asset, person, new_person_name"
   ]
  },
  {
   "cell_type": "code",
   "execution_count": 19,
   "metadata": {
    "extensions": {
     "jupyter_dashboards": {
      "version": 1,
      "views": {
       "grid_default": {
        "hidden": true
       },
       "report_default": {}
      }
     }
    }
   },
   "outputs": [],
   "source": [
    "ui = widgets.VBox(children=[title,\n",
    "                            df_out,\n",
    "                            formtitle,\n",
    "                            person,\n",
    "                            widgets.HBox(children=[events,date], layout=items_layout),\n",
    "                            engagement,\n",
    "                            notes,\n",
    "                            widgets.HBox(children=[country], layout=items_layout),\n",
    "                            location,\n",
    "                            audience,\n",
    "                            quality,\n",
    "                            website,\n",
    "                            asset,\n",
    "                            button,new_person_box]\n",
    "                            , layout=items_layout)"
   ]
  },
  {
   "cell_type": "code",
   "execution_count": 20,
   "metadata": {},
   "outputs": [
    {
     "data": {
      "text/plain": [
       "'201809'"
      ]
     },
     "execution_count": 20,
     "metadata": {},
     "output_type": "execute_result"
    }
   ],
   "source": [
    "now = datetime.datetime.now()\n",
    "now.strftime(\"%Y%m\")"
   ]
  },
  {
   "cell_type": "code",
   "execution_count": 21,
   "metadata": {
    "extensions": {
     "jupyter_dashboards": {
      "version": 1,
      "views": {
       "grid_default": {
        "col": 0,
        "height": 21,
        "hidden": false,
        "row": 0,
        "width": 9
       },
       "report_default": {}
      }
     }
    },
    "scrolled": false
   },
   "outputs": [
    {
     "data": {
      "application/vnd.jupyter.widget-view+json": {
       "model_id": "b71fb741276743beb4043e9e4609b13e",
       "version_major": 2,
       "version_minor": 0
      },
      "text/plain": [
       "VBox(children=(HTML(value='<center><H3>Recent records</H3><center>'), Output(layout=Layout(border='1px solid b…"
      ]
     },
     "metadata": {},
     "output_type": "display_data"
    },
    {
     "data": {
      "application/vnd.jupyter.widget-view+json": {
       "model_id": "3a780a7121c24da9813b85ea1f978f6c",
       "version_major": 2,
       "version_minor": 0
      },
      "text/plain": [
       "Output()"
      ]
     },
     "metadata": {},
     "output_type": "display_data"
    }
   ],
   "source": [
    "out = interactive_output(form, {'events': events,\n",
    "                                'date':date,\n",
    "                                'engagement':engagement,\n",
    "                                'notes':notes,\n",
    "                                'country':country,\n",
    "                                'location':location,\n",
    "                                'audience': audience,\n",
    "                                'quality' : quality,\n",
    "                                'website': website,\n",
    "                                'asset' : asset,\n",
    "                                'person' : person,\n",
    "                                'new_person_name' : new_person_box.children[1]\n",
    "                               })\n",
    "display(ui, out)\n"
   ]
  },
  {
   "cell_type": "code",
   "execution_count": null,
   "metadata": {
    "extensions": {
     "jupyter_dashboards": {
      "version": 1,
      "views": {
       "grid_default": {
        "hidden": true
       },
       "report_default": {}
      }
     }
    }
   },
   "outputs": [],
   "source": []
  }
 ],
 "metadata": {
  "celltoolbar": "Edit Metadata",
  "extensions": {
   "jupyter_dashboards": {
    "activeView": "grid_default",
    "version": 1,
    "views": {
     "grid_default": {
      "cellMargin": 10,
      "defaultCellHeight": 20,
      "maxColumns": 12,
      "name": "grid",
      "type": "grid"
     },
     "report_default": {
      "name": "report",
      "type": "report"
     }
    }
   }
  },
  "gist": {
   "data": {
    "description": "Untitled.ipynb",
    "public": false
   },
   "id": ""
  },
  "kernelspec": {
   "display_name": "Python 3",
   "language": "python",
   "name": "python3"
  },
  "language_info": {
   "codemirror_mode": {
    "name": "ipython",
    "version": 3
   },
   "file_extension": ".py",
   "mimetype": "text/x-python",
   "name": "python",
   "nbconvert_exporter": "python",
   "pygments_lexer": "ipython3",
   "version": "3.6.5"
  },
  "latex_envs": {
   "LaTeX_envs_menu_present": true,
   "autoclose": true,
   "autocomplete": true,
   "bibliofile": "biblio.bib",
   "cite_by": "apalike",
   "current_citInitial": 1,
   "eqLabelWithNumbers": true,
   "eqNumInitial": 1,
   "hotkeys": {
    "equation": "Ctrl-E",
    "itemize": "Ctrl-I"
   },
   "labels_anchors": false,
   "latex_user_defs": false,
   "report_style_numbering": false,
   "user_envs_cfg": false
  },
  "toc": {
   "base_numbering": 1,
   "nav_menu": {},
   "number_sections": false,
   "sideBar": false,
   "skip_h1_title": false,
   "title_cell": "Table of Contents",
   "title_sidebar": "Contents",
   "toc_cell": false,
   "toc_position": {},
   "toc_section_display": false,
   "toc_window_display": false
  }
 },
 "nbformat": 4,
 "nbformat_minor": 2
}
