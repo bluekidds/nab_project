{
 "cells": [
  {
   "cell_type": "code",
   "execution_count": 1,
   "metadata": {
    "extensions": {
     "jupyter_dashboards": {
      "version": 1,
      "views": {
       "grid_default": {
        "hidden": true
       },
       "report_default": {
        "hidden": true
       }
      }
     }
    }
   },
   "outputs": [],
   "source": [
    "%load_ext autoreload\n",
    "%autoreload 2"
   ]
  },
  {
   "cell_type": "code",
   "execution_count": 2,
   "metadata": {
    "ExecuteTime": {
     "end_time": "2018-08-16T04:07:51.022401Z",
     "start_time": "2018-08-16T04:07:51.015831Z"
    },
    "collapse": true,
    "extensions": {
     "jupyter_dashboards": {
      "version": 1,
      "views": {
       "grid_default": {
        "hidden": true
       },
       "report_default": {
        "hidden": true
       }
      }
     }
    },
    "hide_input": true,
    "run_control": {
     "marked": true
    }
   },
   "outputs": [
    {
     "data": {
      "application/javascript": [
       "IPython.OutputArea.prototype._should_scroll = function(lines) {\n",
       "    return false\n",
       "}"
      ],
      "text/plain": [
       "<IPython.core.display.Javascript object>"
      ]
     },
     "metadata": {},
     "output_type": "display_data"
    }
   ],
   "source": [
    "%%javascript\n",
    "IPython.OutputArea.prototype._should_scroll = function(lines) {\n",
    "    return false\n",
    "}"
   ]
  },
  {
   "cell_type": "code",
   "execution_count": 3,
   "metadata": {
    "extensions": {
     "jupyter_dashboards": {
      "version": 1,
      "views": {
       "grid_default": {
        "hidden": true
       },
       "report_default": {
        "hidden": true
       }
      }
     }
    }
   },
   "outputs": [
    {
     "name": "stderr",
     "output_type": "stream",
     "text": [
      "Initialize NAB Labs table            failed. Please Check your connection\n",
      "table nab_labs_initiatives_cycle already exists\n"
     ]
    }
   ],
   "source": [
    "from CoreConfig.CoreConfig import CoreConfig\n",
    "from DBUtility.SQLiteUtility import DBSQLiteConnection, CreateNABTableIfNotExist, FetchNABRecordAll\n",
    "from DBUtility.SQLiteUtility import InsertNABTableRecord\n",
    "from pandas import DataFrame\n",
    "import datetime\n",
    "CoreConfig.initialize_core_config()\n",
    "\n",
    "DBSQLiteConnection().configure_connection_information(**CoreConfig().get_sqlite3_db_connection_info())\n",
    "CreateNABTableIfNotExist().execute()\n"
   ]
  },
  {
   "cell_type": "code",
   "execution_count": 4,
   "metadata": {
    "ExecuteTime": {
     "end_time": "2018-08-16T04:07:09.480996Z",
     "start_time": "2018-08-16T04:07:09.467320Z"
    },
    "code_folding": [],
    "extensions": {
     "jupyter_dashboards": {
      "version": 1,
      "views": {
       "grid_default": {
        "hidden": true
       },
       "report_default": {
        "hidden": true
       }
      }
     }
    },
    "hide_input": true,
    "hide_output": false,
    "run_control": {
     "marked": true
    },
    "slideshow": {
     "slide_type": "-"
    }
   },
   "outputs": [],
   "source": [
    "import ipywidgets as widgets\n",
    "from ipywidgets import interact, interactive, fixed, interact_manual, interactive_output\n",
    "from IPython.display import display_pretty\n",
    "import pandas as pd\n",
    "from ipywidgets import Layout, Button, Box\n",
    "from StylingUtility.StylingUtility import CustomStyling"
   ]
  },
  {
   "cell_type": "code",
   "execution_count": 5,
   "metadata": {
    "ExecuteTime": {
     "end_time": "2018-08-16T04:07:13.439641Z",
     "start_time": "2018-08-16T04:07:13.377064Z"
    },
    "code_folding": [
     0,
     7,
     15,
     24,
     35,
     59,
     60,
     72
    ],
    "extensions": {
     "jupyter_dashboards": {
      "version": 1,
      "views": {
       "grid_default": {
        "hidden": true
       },
       "report_default": {
        "hidden": true
       }
      }
     }
    },
    "hide_input": true,
    "hide_output": false,
    "run_control": {
     "marked": true
    },
    "scrolled": true
   },
   "outputs": [],
   "source": [
    "title = widgets.HTML(\"<center><H3>NAB Labs Form</H3><center>\")\n",
    "#df_out = widgets.Output(layout={'border': '1px solid black', 'display':'flex', 'flex_flow':'auto',\n",
    "#                                'align_items':'stretch',\n",
    "#                                'width':'auto'})\n",
    "#with df_out:\n",
    "#    df = DataFrame(FetchNABRecordAll().execute())\n",
    "#    display(df)\n",
    "\n",
    "initiative_name=widgets.Text(\n",
    "    value='',\n",
    "    placeholder='Type initiative name',\n",
    "    description='Initiative/Proposition Name:',\n",
    "    layout=CustomStyling.box_layout,\n",
    "    style=CustomStyling.style,\n",
    "    disable=False)\n",
    "\n",
    "decision_made=widgets.Textarea(\n",
    "    value='',\n",
    "    placeholder='Type decision made',\n",
    "    description='Decision Made:',\n",
    "    layout=CustomStyling.box_layout,\n",
    "    style=CustomStyling.style,\n",
    "    disable=False)\n",
    "\n",
    "reason=widgets.Text(\n",
    "    value='',\n",
    "    placeholder='Type reason',\n",
    "    description='Reason:',\n",
    "    layout=CustomStyling.box_layout,\n",
    "    style=CustomStyling.style,\n",
    "    disable=False)\n",
    "\n",
    "comments=widgets.Text(\n",
    "    value='',\n",
    "    placeholder='Type comments',\n",
    "    description='Comments:',\n",
    "    layout=CustomStyling.box_layout,\n",
    "    style=CustomStyling.style,\n",
    "    disable=False)\n",
    "\n",
    "experiment_check = widgets.Checkbox(\n",
    "    value=False,\n",
    "    description='Experiment',\n",
    "    disable = False\n",
    ")\n",
    "def on_experiment_value_change(change):\n",
    "    if change['new'] == True:\n",
    "        experiment_date.disabled=False\n",
    "        experiment_date.value = datetime.datetime.now().date()\n",
    "    else:\n",
    "        experiment_date.disabled = True\n",
    "        experiment_date.value = None\n",
    "\n",
    "experiment_check.observe(on_experiment_value_change, names='value')\n",
    "experiment_date = widgets.DatePicker(\n",
    "        description='Date',\n",
    "        layout=CustomStyling.box_layout,\n",
    "        style=CustomStyling.style,\n",
    "        disabled=True)\n",
    "\n",
    "hacks_check = widgets.Checkbox(\n",
    "    value=False,\n",
    "    description='Hacks'\n",
    ")\n",
    "\n",
    "def on_hacks_value_change(change):\n",
    "    if change['new'] == True:\n",
    "        hacks_date.disabled=False\n",
    "        hacks_date.value = datetime.datetime.now().date()\n",
    "    else:\n",
    "        hacks_date.disabled = True\n",
    "        hacks_date.value = None\n",
    "hacks_check.observe(on_hacks_value_change, names='value')\n",
    "hacks_date = widgets.DatePicker(\n",
    "        description='Date',\n",
    "        layout=CustomStyling.box_layout,\n",
    "        style=CustomStyling.style,\n",
    "        disabled=True)\n",
    "\n",
    "POC_check = widgets.Checkbox(\n",
    "    value=False,\n",
    "    description='POC',\n",
    "    disable = False\n",
    ")\n",
    "def on_POC_value_change(change):\n",
    "    if change['new'] == True:\n",
    "        POC_date.disabled=False\n",
    "        POC_date.value = datetime.datetime.now().date()\n",
    "    else:\n",
    "        POC_date.disabled = True\n",
    "        POC_date.value = None\n",
    "POC_check.observe(on_POC_value_change, names='value')\n",
    "POC_date = widgets.DatePicker(\n",
    "        description='Date',\n",
    "        layout=CustomStyling.box_layout,\n",
    "        style=CustomStyling.style,\n",
    "        disabled=True)\n",
    "\n",
    "incubated_check = widgets.Checkbox(\n",
    "    value=False,\n",
    "    description='Incubated',\n",
    "    disable = False\n",
    ")\n",
    "\n",
    "def on_incubated_value_change(change):\n",
    "    if change['new'] == True:\n",
    "        incubated_date.disabled=False\n",
    "        incubated_date.value = datetime.datetime.now().date()\n",
    "    else:\n",
    "        incubated_date.disabled = True\n",
    "        incubated_date.value = None\n",
    "incubated_check.observe(on_incubated_value_change, names='value')\n",
    "\n",
    "incubated_date = widgets.DatePicker(\n",
    "        description='Date',\n",
    "        layout=CustomStyling.box_layout,\n",
    "        style=CustomStyling.style,\n",
    "        disabled=True)\n",
    "\n",
    "exit_check = widgets.Checkbox(\n",
    "    value=False,\n",
    "    description='Exit',\n",
    "    disable = False\n",
    ")\n",
    "\n",
    "def on_exit_value_change(change):\n",
    "    if change['new'] == True:\n",
    "        exit_date.disabled=False\n",
    "        exit_date.value = datetime.datetime.now().date()\n",
    "    else:\n",
    "        exit_date.disabled = True\n",
    "        exit_date.value = None\n",
    "exit_check.observe(on_exit_value_change, names='value')\n",
    "\n",
    "exit_date = widgets.DatePicker(\n",
    "        description='Date',\n",
    "        layout=CustomStyling.box_layout,\n",
    "        style=CustomStyling.style,\n",
    "        disabled=True)\n",
    "\n",
    "\n",
    "button = widgets.Button(description='Submit the form',\n",
    "                        disable=False,\n",
    "                        button_style ='', # success\n",
    "                        tooltip='Click to submit',\n",
    "                        icon='check')\n",
    "\n",
    "def on_submit_form_button_clicked(b):\n",
    "    system_date = datetime.datetime.today().strftime('%Y-%m-%d')\n",
    "    InsertNABTableRecord( initiative_name.value, decision_made.value, reason.value,\n",
    "                 comments.value, experiment_check.value, experiment_date.value, hacks_check.value,\n",
    "                 hacks_date.value, POC_check.value, POC_date.value, incubated_check.value,\n",
    "                 incubated_date.value, exit_check.value, exit_date.value, system_date).execute()\n",
    "    #df = DataFrame(FetchNABRecordAll().execute())\n",
    "    #df_out.clear_output()\n",
    "    #with df_out:\n",
    "    #    display(df)\n",
    "    \n",
    "button.on_click(on_submit_form_button_clicked)"
   ]
  },
  {
   "cell_type": "code",
   "execution_count": 6,
   "metadata": {
    "extensions": {
     "jupyter_dashboards": {
      "version": 1,
      "views": {
       "grid_default": {
        "hidden": true
       },
       "report_default": {
        "hidden": true
       }
      }
     }
    }
   },
   "outputs": [],
   "source": [
    "def form(initiative_name, decision_made, reason,\n",
    "         comments, experiment_check, experiment_date, hacks_check,\n",
    "         hacks_date, poc_check, poc_date, incubated_check,\n",
    "         incubated_date, exit_check, exit_date):\n",
    "    #display(events, meeting, date, name, notes, country, audience, website, asset, person)\n",
    "    return initiative_name, decision_made, reason,comments, experiment_check, experiment_date, hacks_check, hacks_date, poc_check, poc_date, incubated_check,incubated_date, exit_check, exit_date"
   ]
  },
  {
   "cell_type": "code",
   "execution_count": 7,
   "metadata": {
    "extensions": {
     "jupyter_dashboards": {
      "version": 1,
      "views": {
       "grid_default": {
        "hidden": true
       },
       "report_default": {
        "hidden": true
       }
      }
     }
    }
   },
   "outputs": [],
   "source": [
    "ui = widgets.VBox(children=[title,\n",
    "                            initiative_name, decision_made, reason, comments, \n",
    "                            widgets.HBox(children=[experiment_check, experiment_date], layout=CustomStyling.items_layout), \n",
    "                            widgets.HBox(children=[hacks_check, hacks_date], layout=CustomStyling.items_layout),\n",
    "                            widgets.HBox(children=[POC_check, POC_date], layout=CustomStyling.items_layout),\n",
    "                            widgets.HBox(children=[incubated_check, incubated_date], layout=CustomStyling.items_layout),\n",
    "                            widgets.HBox(children=[exit_check, exit_date], layout=CustomStyling.items_layout),\n",
    "                            button], layout=CustomStyling.items_layout)"
   ]
  },
  {
   "cell_type": "code",
   "execution_count": 8,
   "metadata": {
    "extensions": {
     "jupyter_dashboards": {
      "version": 1,
      "views": {
       "grid_default": {
        "col": 0,
        "height": 12,
        "hidden": false,
        "row": 0,
        "width": 4
       },
       "report_default": {
        "hidden": false
       }
      }
     }
    },
    "scrolled": false
   },
   "outputs": [
    {
     "data": {
      "application/vnd.jupyter.widget-view+json": {
       "model_id": "59fd4abf2dcb48bb9ee1a67362bcf217",
       "version_major": 2,
       "version_minor": 0
      },
      "text/plain": [
       "Output()"
      ]
     },
     "metadata": {},
     "output_type": "display_data"
    },
    {
     "data": {
      "application/vnd.jupyter.widget-view+json": {
       "model_id": "de55faaec0f94e459e7acf0456ff5113",
       "version_major": 2,
       "version_minor": 0
      },
      "text/plain": [
       "VBox(children=(HTML(value='<center><H3>NAB Labs Form</H3><center>'), Text(value='', description='Initiative/Pr…"
      ]
     },
     "metadata": {},
     "output_type": "display_data"
    }
   ],
   "source": [
    "out = interactive_output(form, {'initiative_name': initiative_name,\n",
    "                                'decision_made': decision_made,\n",
    "                                'reason' : reason,\n",
    "                                'comments' : comments,\n",
    "                                'experiment_check': experiment_check,'experiment_date' : experiment_date,\n",
    "                                'hacks_check' : hacks_check,'hacks_date' : hacks_date,\n",
    "                                'poc_check': POC_check, 'poc_date' : POC_date,\n",
    "                                'incubated_check': incubated_check, 'incubated_date': incubated_date,\n",
    "                                'exit_check': exit_check, 'exit_date': exit_date\n",
    "                               })\n",
    "display(out, ui)\n"
   ]
  },
  {
   "cell_type": "code",
   "execution_count": null,
   "metadata": {
    "extensions": {
     "jupyter_dashboards": {
      "version": 1,
      "views": {
       "grid_default": {
        "hidden": true
       },
       "report_default": {
        "hidden": true
       }
      }
     }
    }
   },
   "outputs": [],
   "source": [
    "person.options = {}"
   ]
  }
 ],
 "metadata": {
  "celltoolbar": "Edit Metadata",
  "extensions": {
   "jupyter_dashboards": {
    "activeView": "grid_default",
    "version": 1,
    "views": {
     "grid_default": {
      "cellMargin": 10,
      "defaultCellHeight": 20,
      "maxColumns": 12,
      "name": "grid",
      "type": "grid"
     },
     "report_default": {
      "name": "report",
      "type": "report"
     }
    }
   }
  },
  "gist": {
   "data": {
    "description": "Untitled.ipynb",
    "public": false
   },
   "id": ""
  },
  "kernelspec": {
   "display_name": "Python 3",
   "language": "python",
   "name": "python3"
  },
  "language_info": {
   "codemirror_mode": {
    "name": "ipython",
    "version": 3
   },
   "file_extension": ".py",
   "mimetype": "text/x-python",
   "name": "python",
   "nbconvert_exporter": "python",
   "pygments_lexer": "ipython3",
   "version": "3.6.5"
  },
  "latex_envs": {
   "LaTeX_envs_menu_present": true,
   "autoclose": true,
   "autocomplete": true,
   "bibliofile": "biblio.bib",
   "cite_by": "apalike",
   "current_citInitial": 1,
   "eqLabelWithNumbers": true,
   "eqNumInitial": 1,
   "hotkeys": {
    "equation": "Ctrl-E",
    "itemize": "Ctrl-I"
   },
   "labels_anchors": false,
   "latex_user_defs": false,
   "report_style_numbering": false,
   "user_envs_cfg": false
  },
  "toc": {
   "base_numbering": 1,
   "nav_menu": {},
   "number_sections": false,
   "sideBar": false,
   "skip_h1_title": false,
   "title_cell": "Table of Contents",
   "title_sidebar": "Contents",
   "toc_cell": false,
   "toc_position": {},
   "toc_section_display": false,
   "toc_window_display": false
  }
 },
 "nbformat": 4,
 "nbformat_minor": 2
}
