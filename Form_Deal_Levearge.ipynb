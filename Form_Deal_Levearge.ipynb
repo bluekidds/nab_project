{
 "cells": [
  {
   "cell_type": "code",
   "execution_count": 1,
   "metadata": {
    "extensions": {
     "jupyter_dashboards": {
      "version": 1,
      "views": {
       "grid_default": {
        "hidden": true
       },
       "report_default": {
        "hidden": true
       }
      }
     }
    }
   },
   "outputs": [],
   "source": [
    "%load_ext autoreload\n",
    "%autoreload 2"
   ]
  },
  {
   "cell_type": "code",
   "execution_count": 2,
   "metadata": {
    "ExecuteTime": {
     "end_time": "2018-08-16T04:07:51.022401Z",
     "start_time": "2018-08-16T04:07:51.015831Z"
    },
    "collapse": true,
    "extensions": {
     "jupyter_dashboards": {
      "version": 1,
      "views": {
       "grid_default": {
        "hidden": true
       },
       "report_default": {
        "hidden": true
       }
      }
     }
    },
    "hide_input": true,
    "run_control": {
     "marked": true
    }
   },
   "outputs": [
    {
     "data": {
      "application/javascript": [
       "IPython.OutputArea.prototype._should_scroll = function(lines) {\n",
       "    return false\n",
       "}"
      ],
      "text/plain": [
       "<IPython.core.display.Javascript object>"
      ]
     },
     "metadata": {},
     "output_type": "display_data"
    }
   ],
   "source": [
    "%%javascript\n",
    "IPython.OutputArea.prototype._should_scroll = function(lines) {\n",
    "    return false\n",
    "}"
   ]
  },
  {
   "cell_type": "code",
   "execution_count": 9,
   "metadata": {
    "extensions": {
     "jupyter_dashboards": {
      "version": 1,
      "views": {
       "grid_default": {
        "hidden": true
       },
       "report_default": {
        "hidden": true
       }
      }
     }
    }
   },
   "outputs": [
    {
     "name": "stderr",
     "output_type": "stream",
     "text": [
      "Initialize NAB Done Leverage             Deals table            failed. Please Check your connection\n",
      "table nab_ventures_deals_leveraged already exists\n"
     ]
    }
   ],
   "source": [
    "from CoreConfig.CoreConfig import CoreConfig\n",
    "from DBUtility.SQLiteUtility import DBSQLiteConnection, CreateDealsLeverageTableIfNotExist\n",
    "from DBUtility.SQLiteUtility import InsertDealLeverageRecord, FetchDealsLeverageRecordLastThree\n",
    "from pandas import DataFrame\n",
    "import datetime\n",
    "CoreConfig.initialize_core_config()\n",
    "\n",
    "DBSQLiteConnection().configure_connection_information(**CoreConfig().get_sqlite3_db_connection_info())\n",
    "CreateDealsLeverageTableIfNotExist.execute()\n"
   ]
  },
  {
   "cell_type": "code",
   "execution_count": 10,
   "metadata": {
    "ExecuteTime": {
     "end_time": "2018-08-16T04:07:09.480996Z",
     "start_time": "2018-08-16T04:07:09.467320Z"
    },
    "code_folding": [],
    "extensions": {
     "jupyter_dashboards": {
      "version": 1,
      "views": {
       "grid_default": {
        "hidden": true
       },
       "report_default": {
        "hidden": true
       }
      }
     }
    },
    "hide_input": true,
    "hide_output": false,
    "run_control": {
     "marked": true
    },
    "slideshow": {
     "slide_type": "-"
    }
   },
   "outputs": [],
   "source": [
    "import ipywidgets as widgets\n",
    "from ipywidgets import interact, interactive, fixed, interact_manual, interactive_output\n",
    "from IPython.display import display_pretty\n",
    "import pandas as pd\n",
    "from ipywidgets import Layout, Button, Box\n",
    "from StylingUtility.StylingUtility import CustomStyling"
   ]
  },
  {
   "cell_type": "code",
   "execution_count": 11,
   "metadata": {
    "ExecuteTime": {
     "end_time": "2018-08-16T04:07:13.439641Z",
     "start_time": "2018-08-16T04:07:13.377064Z"
    },
    "code_folding": [
     0,
     7,
     15,
     24,
     35,
     59,
     60,
     72
    ],
    "extensions": {
     "jupyter_dashboards": {
      "version": 1,
      "views": {
       "grid_default": {
        "hidden": true
       },
       "report_default": {
        "hidden": true
       }
      }
     }
    },
    "hide_input": true,
    "hide_output": false,
    "run_control": {
     "marked": true
    },
    "scrolled": true
   },
   "outputs": [],
   "source": [
    "title = widgets.HTML(\"<center><H3>DEALS Leveraged</H3><center>\")\n",
    "df_out = widgets.Output(layout={'border': '1px solid black', 'display':'flex', 'flex_flow':'auto',\n",
    "                                'align_items':'stretch',\n",
    "                                'width':'auto'})\n",
    "with df_out:\n",
    "    df = DataFrame(FetchDealsLeverageRecordLastThree().execute(), columns=['Company_name', 'Deal_Leverage_Date', 'Leverage Descriptions'])\n",
    "    display(df)\n",
    "\n",
    "date = widgets.DatePicker(\n",
    "        value = datetime.datetime.now().date(),\n",
    "        description='Pick a Date',\n",
    "        layout=CustomStyling.box_layout,\n",
    "        style=CustomStyling.style,\n",
    "        disable=False)\n",
    "\n",
    "company_name=widgets.Text(\n",
    "    value='',\n",
    "    placeholder='Type company\\'s name',\n",
    "    description='Company:',\n",
    "    layout=CustomStyling.box_layout,\n",
    "    style=CustomStyling.style,\n",
    "    disable=False)\n",
    "\n",
    "leverage_desc = widgets.Textarea(value='',\n",
    "                                 placeholder='Leverage',\n",
    "                                 description='Leverage:',\n",
    "                                 layout=CustomStyling.box_layout,\n",
    "                                 style=CustomStyling.style,\n",
    "                                 disable=False)\n",
    "\n",
    "button = widgets.Button(description='Submit the form',\n",
    "                        disable=False,\n",
    "                        button_style ='', # success\n",
    "                        tooltip='Click to submit',\n",
    "                        icon='check')\n",
    "\n",
    "def on_submit_form_button_clicked(b):\n",
    "    \n",
    "    InsertDealLeverageRecord(date.value, company_name.value, leverage_desc.value).execute()\n",
    "    #df = DataFrame(FetchEventsLatestRecordWithSamePerson().execute(), columns=['Events Name', 'Person', 'Date'])\n",
    "    \n",
    "    df = DataFrame(FetchDealsLeverageRecordLastThree().execute(), columns=['Company_name', 'Deal_Leverage_Date', 'Leverage Descriptions'])\n",
    "    df_out.clear_output()\n",
    "    with df_out:\n",
    "        display(df)\n",
    "button.on_click(on_submit_form_button_clicked)"
   ]
  },
  {
   "cell_type": "code",
   "execution_count": 12,
   "metadata": {
    "extensions": {
     "jupyter_dashboards": {
      "version": 1,
      "views": {
       "grid_default": {
        "hidden": true
       },
       "report_default": {
        "hidden": true
       }
      }
     }
    }
   },
   "outputs": [],
   "source": [
    "def form(date, company_name, leverage_desc):\n",
    "    #display(events, meeting, date, name, notes, country, audience, website, asset, person)\n",
    "    return date, company_name, leverage_desc"
   ]
  },
  {
   "cell_type": "code",
   "execution_count": 13,
   "metadata": {
    "extensions": {
     "jupyter_dashboards": {
      "version": 1,
      "views": {
       "grid_default": {
        "hidden": true
       },
       "report_default": {
        "hidden": true
       }
      }
     }
    }
   },
   "outputs": [],
   "source": [
    "ui = widgets.VBox(children=[df_out,title,\n",
    "                            date, company_name, leverage_desc, button], layout=CustomStyling.items_layout)"
   ]
  },
  {
   "cell_type": "code",
   "execution_count": 14,
   "metadata": {
    "extensions": {
     "jupyter_dashboards": {
      "version": 1,
      "views": {
       "grid_default": {
        "col": 0,
        "height": 12,
        "hidden": false,
        "row": 0,
        "width": 4
       },
       "report_default": {
        "hidden": false
       }
      }
     }
    },
    "scrolled": false
   },
   "outputs": [
    {
     "data": {
      "application/vnd.jupyter.widget-view+json": {
       "model_id": "519a557c4c994c09850f6cbe1bfe2cee",
       "version_major": 2,
       "version_minor": 0
      },
      "text/plain": [
       "VBox(children=(Output(layout=Layout(align_items='stretch', border='1px solid black', display='flex', flex_flow…"
      ]
     },
     "metadata": {},
     "output_type": "display_data"
    },
    {
     "data": {
      "application/vnd.jupyter.widget-view+json": {
       "model_id": "17ca2c6da986433aa6d825dc8b6a498d",
       "version_major": 2,
       "version_minor": 0
      },
      "text/plain": [
       "Output()"
      ]
     },
     "metadata": {},
     "output_type": "display_data"
    }
   ],
   "source": [
    "out = interactive_output(form, {'date': date,\n",
    "                                'company_name': company_name,\n",
    "                                'leverage_desc' : leverage_desc\n",
    "                               })\n",
    "display(ui, out)\n"
   ]
  },
  {
   "cell_type": "code",
   "execution_count": null,
   "metadata": {
    "extensions": {
     "jupyter_dashboards": {
      "version": 1,
      "views": {
       "grid_default": {
        "hidden": true
       },
       "report_default": {
        "hidden": true
       }
      }
     }
    }
   },
   "outputs": [],
   "source": [
    "person.options = {}"
   ]
  }
 ],
 "metadata": {
  "celltoolbar": "Edit Metadata",
  "extensions": {
   "jupyter_dashboards": {
    "activeView": "grid_default",
    "version": 1,
    "views": {
     "grid_default": {
      "cellMargin": 10,
      "defaultCellHeight": 20,
      "maxColumns": 12,
      "name": "grid",
      "type": "grid"
     },
     "report_default": {
      "name": "report",
      "type": "report"
     }
    }
   }
  },
  "gist": {
   "data": {
    "description": "Untitled.ipynb",
    "public": false
   },
   "id": ""
  },
  "kernelspec": {
   "display_name": "Python 3",
   "language": "python",
   "name": "python3"
  },
  "language_info": {
   "codemirror_mode": {
    "name": "ipython",
    "version": 3
   },
   "file_extension": ".py",
   "mimetype": "text/x-python",
   "name": "python",
   "nbconvert_exporter": "python",
   "pygments_lexer": "ipython3",
   "version": "3.6.5"
  },
  "latex_envs": {
   "LaTeX_envs_menu_present": true,
   "autoclose": true,
   "autocomplete": true,
   "bibliofile": "biblio.bib",
   "cite_by": "apalike",
   "current_citInitial": 1,
   "eqLabelWithNumbers": true,
   "eqNumInitial": 1,
   "hotkeys": {
    "equation": "Ctrl-E",
    "itemize": "Ctrl-I"
   },
   "labels_anchors": false,
   "latex_user_defs": false,
   "report_style_numbering": false,
   "user_envs_cfg": false
  },
  "toc": {
   "base_numbering": 1,
   "nav_menu": {},
   "number_sections": false,
   "sideBar": false,
   "skip_h1_title": false,
   "title_cell": "Table of Contents",
   "title_sidebar": "Contents",
   "toc_cell": false,
   "toc_position": {},
   "toc_section_display": false,
   "toc_window_display": false
  }
 },
 "nbformat": 4,
 "nbformat_minor": 2
}
