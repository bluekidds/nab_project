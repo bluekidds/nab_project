{
 "cells": [
  {
   "cell_type": "code",
   "execution_count": 6,
   "metadata": {
    "collapsed": true,
    "extensions": {
     "jupyter_dashboards": {
      "version": 1,
      "views": {
       "grid_default": {
        "col": 0,
        "height": 4,
        "hidden": false,
        "row": 0,
        "width": 4
       },
       "report_default": {
        "hidden": false
       }
      }
     }
    }
   },
   "outputs": [],
   "source": [
    "%load_ext autoreload\n",
    "%autoreload 2"
   ]
  },
  {
   "cell_type": "code",
   "execution_count": 7,
   "metadata": {
    "ExecuteTime": {
     "end_time": "2018-08-16T04:07:51.022401Z",
     "start_time": "2018-08-16T04:07:51.015831Z"
    },
    "collapse": true,
    "extensions": {
     "jupyter_dashboards": {
      "version": 1,
      "views": {
       "grid_default": {
        "hidden": true
       },
       "report_default": {
        "hidden": true
       }
      }
     }
    },
    "hide_input": true,
    "run_control": {
     "marked": true
    }
   },
   "outputs": [
    {
     "data": {
      "application/javascript": [
       "IPython.OutputArea.prototype._should_scroll = function(lines) {\n",
       "    return false\n",
       "}"
      ],
      "text/plain": [
       "<IPython.core.display.Javascript object>"
      ]
     },
     "metadata": {},
     "output_type": "display_data"
    }
   ],
   "source": [
    "%%javascript\n",
    "IPython.OutputArea.prototype._should_scroll = function(lines) {\n",
    "    return false\n",
    "}"
   ]
  },
  {
   "cell_type": "code",
   "execution_count": 3,
   "metadata": {
    "extensions": {
     "jupyter_dashboards": {
      "version": 1,
      "views": {
       "grid_default": {
        "hidden": true
       },
       "report_default": {
        "hidden": true
       }
      }
     }
    }
   },
   "outputs": [],
   "source": [
    "from CoreConfig.CoreConfig import CoreConfig\n",
    "from DBUtility.DBUtility import DBSQLiteConnection, CreateEventsTableIfNotExist, CreateNPSTableIfNotExist\n",
    "from DBUtility.DBUtility import FetchEventsRecordWithinSamePerson, FetchEventsLatestRecordWithSamePerson, FetchEventsRecordAll, FetchNPSRecordAll\n",
    "from DBUtility.DBUtility import InsertEventRecord, InsertNPSRecord\n",
    "from pandas import DataFrame\n",
    "import datetime\n",
    "\n",
    "\n",
    "import ipywidgets as widgets\n",
    "from ipywidgets import interact, interactive, fixed, interact_manual, interactive_output\n",
    "from IPython.display import display_pretty\n",
    "import pandas as pd\n",
    "from ipywidgets import Layout, Button, Box\n",
    "from StylingUtility.StylingUtility import CustomStyling\n",
    "\n",
    "# CoreConfig.initialize_core_config()\n",
    "# DBSQLiteConnection().configure_connection_information(**CoreConfig().get_sqlite3_db_connection_info())\n",
    "# CreateEventsTableIfNotExist().execute()\n"
   ]
  },
  {
   "cell_type": "markdown",
   "metadata": {
    "extensions": {
     "jupyter_dashboards": {
      "version": 1,
      "views": {
       "grid_default": {
        "col": 8,
        "height": 4,
        "hidden": false,
        "row": 4,
        "width": 4
       },
       "report_default": {
        "hidden": false
       }
      }
     }
    }
   },
   "source": [
    "### NPS Form"
   ]
  },
  {
   "cell_type": "code",
   "execution_count": 138,
   "metadata": {
    "extensions": {
     "jupyter_dashboards": {
      "version": 1,
      "views": {
       "grid_default": {
        "hidden": true
       },
       "report_default": {
        "hidden": true
       }
      }
     }
    }
   },
   "outputs": [
    {
     "name": "stderr",
     "output_type": "stream",
     "text": [
      "Initialize nab NPS table failed. Please check your connection\n",
      "table nab_mobile_nps already exists\n"
     ]
    }
   ],
   "source": [
    "# get configuration details\n",
    "CoreConfig.initialize_core_config()\n",
    "\n",
    "# establish database connection\n",
    "DBSQLiteConnection().configure_connection_information(**CoreConfig().get_sqlite3_db_connection_info())\n",
    "\n",
    "# create table if not exist\n",
    "CreateNPSTableIfNotExist().execute()"
   ]
  },
  {
   "cell_type": "code",
   "execution_count": 149,
   "metadata": {
    "extensions": {
     "jupyter_dashboards": {
      "version": 1,
      "views": {
       "grid_default": {
        "hidden": true
       },
       "report_default": {
        "hidden": true
       }
      }
     }
    }
   },
   "outputs": [],
   "source": [
    "title_nps = widgets.HTML(\"<center><H3>Mobile NPS Survey</H3><center>\")\n",
    "\n",
    "formtitle_nps = widgets.HTML(\"<center><H3>Digital Channel - Internal Survey</H3><center>\")\n",
    "\n",
    "df_out_nps = widgets.Output(layout={'border': '1px solid black', 'aligh_items' : 'center'})\n",
    "\n",
    "with df_out_nps:\n",
    "    df = DataFrame(FetchNPSRecordAll().execute(), columns=['Date', 'Channel', 'Score', 'Thoughts', 'Comments'])\n",
    "    display(df)\n",
    "\n",
    "date = widgets.DatePicker(\n",
    "        value = datetime.datetime.now().date(),\n",
    "        description='Pick a Date',\n",
    "        layout=CustomStyling.box_layout,\n",
    "        style = CustomStyling.style,\n",
    "        disable=False)\n",
    "    \n",
    "channel = widgets.Dropdown(options= {'NAB Connect': 'NAB Connect',\n",
    "                                     'NAB Connect Mobile': 'NAB Connect Mobile',\n",
    "                                    'NAB Internet Banking':'NAB Internet Banking',\n",
    "                                    'NAB Mobile App': 'NAB Mobile App',\n",
    "                                    'NAB.com.au': 'NAB.com.au'},\n",
    "                           value = 'NAB Mobile App',\n",
    "                           description='Select channel:',\n",
    "                           layout=CustomStyling.box_layout,\n",
    "                           style=CustomStyling.style)\n",
    "\n",
    "q1 = widgets.IntSlider(\n",
    "        value=7,\n",
    "        min=0,\n",
    "        max=10,\n",
    "        step=1,\n",
    "        description='How likely are you to recommend working in the Mobile Service to others?:',\n",
    "        disabled=False,\n",
    "        continuous_update=False,\n",
    "        orientation='horizontal',\n",
    "        readout=True,\n",
    "        layout=CustomStyling.box_layout,\n",
    "        style=CustomStyling.style,\n",
    "        readout_format='d')\n",
    "    \n",
    "q2 = widgets.Text(\n",
    "      value='',\n",
    "      placeholder='Type Here',\n",
    "      description='Share your thoughts on how can we improve the Mobile Service?',\n",
    "      layout=CustomStyling.box_layout,\n",
    "       style=CustomStyling.style,\n",
    "      disable=False)\n",
    "\n",
    "q3 = widgets.Text(\n",
    "      value='',\n",
    "      placeholder='Type Here',\n",
    "      description='Any additional comments?',\n",
    "      layout=CustomStyling.box_layout,\n",
    "       style=CustomStyling.style,\n",
    "      disable=False)\n",
    "\n",
    "button_nps = widgets.Button(\n",
    "           description='Submit the form',\n",
    "           disable=False,\n",
    "           button_style ='', # success\n",
    "           tooltip='Click me',\n",
    "           icon='check'\n",
    "           )\n",
    "\n",
    "def on_submit_form_button_clicked_nps(b):\n",
    "    outputs = { 'date' : [date.value],\n",
    "                'channel' : [channel.value],\n",
    "                'q1' : [q1.value],\n",
    "                'q2' : [q2.value],\n",
    "                'q3' : [q3.value]\n",
    "               }\n",
    "    InsertNPSRecord(date.value, channel.value, q1.value, q2.value, q3.value).execute()\n",
    "    df = DataFrame(FetchNPSRecordAll().execute(), columns=['Date', 'Channel', 'Score', 'Thoughts', 'Comments'])\n",
    "    df_out_nps.clear_output()\n",
    "    with df_out_nps:\n",
    "        display(df)\n",
    "        \n",
    "button_nps.on_click(on_submit_form_button_clicked_nps)"
   ]
  },
  {
   "cell_type": "code",
   "execution_count": 150,
   "metadata": {
    "extensions": {
     "jupyter_dashboards": {
      "version": 1,
      "views": {
       "grid_default": {
        "col": 8,
        "height": 20,
        "hidden": false,
        "row": 8,
        "width": 4
       },
       "report_default": {
        "hidden": false
       }
      }
     }
    }
   },
   "outputs": [
    {
     "data": {
      "application/vnd.jupyter.widget-view+json": {
       "model_id": "45b0965d1136478998e7098191c52b03",
       "version_major": 2,
       "version_minor": 0
      },
      "text/plain": [
       "A Jupyter Widget"
      ]
     },
     "metadata": {},
     "output_type": "display_data"
    },
    {
     "data": {
      "application/vnd.jupyter.widget-view+json": {
       "model_id": "603b279b5aa84f92a18ec82c42cf4b98",
       "version_major": 2,
       "version_minor": 0
      },
      "text/plain": [
       "A Jupyter Widget"
      ]
     },
     "metadata": {},
     "output_type": "display_data"
    }
   ],
   "source": [
    "# user interface organised using VBox (vertical)\n",
    "ui_nps = widgets.VBox(children=[title_nps,\n",
    "                            df_out_nps,\n",
    "                            formtitle_nps,\n",
    "                            date,\n",
    "                            channel,\n",
    "                            q1,\n",
    "                            q2,\n",
    "                            q3,\n",
    "                            button_nps], layout=CustomStyling.items_layout)\n",
    "\n",
    "# live display of values, for debugging purposes\n",
    "def form_nps(date, channel, q1, q2, q3):\n",
    "    display(date, channel, q1, q2, q3)\n",
    "    return date, channel, q1, q2, q3\n",
    "\n",
    "out_nps = interactive_output(form_nps, {'date': date,\n",
    "                                'channel': channel,\n",
    "                                'q1' : q1,\n",
    "                                'q2':q2,\n",
    "                                'q3':q3\n",
    "                               })\n",
    "\n",
    "display(ui_nps, out_nps)"
   ]
  },
  {
   "cell_type": "code",
   "execution_count": null,
   "metadata": {
    "collapsed": true,
    "extensions": {
     "jupyter_dashboards": {
      "version": 1,
      "views": {
       "grid_default": {},
       "report_default": {
        "hidden": false
       }
      }
     }
    }
   },
   "outputs": [],
   "source": [
    "out_nps.outputs"
   ]
  },
  {
   "cell_type": "markdown",
   "metadata": {
    "extensions": {
     "jupyter_dashboards": {
      "version": 1,
      "views": {
       "grid_default": {},
       "report_default": {
        "hidden": false
       }
      }
     }
    }
   },
   "source": [
    "### Prototype - Update Record"
   ]
  },
  {
   "cell_type": "code",
   "execution_count": 209,
   "metadata": {
    "extensions": {
     "jupyter_dashboards": {
      "version": 1,
      "views": {
       "grid_default": {},
       "report_default": {
        "hidden": true
       }
      }
     }
    }
   },
   "outputs": [],
   "source": [
    "from DBUtility.DBUtility import CreatePOCTableIfNotExist, InsertPOCRecord, FetchPOCRecordAll, DropTable, UpdatePOCRecord, GetPOCStatus"
   ]
  },
  {
   "cell_type": "code",
   "execution_count": 211,
   "metadata": {
    "extensions": {
     "jupyter_dashboards": {
      "version": 1,
      "views": {
       "grid_default": {},
       "report_default": {
        "hidden": true
       }
      }
     }
    }
   },
   "outputs": [
    {
     "name": "stderr",
     "output_type": "stream",
     "text": [
      "Initialize nab POC table failed. Please check your connection\n",
      "table nab_poc_status already exists\n"
     ]
    }
   ],
   "source": [
    "# get configuration details\n",
    "CoreConfig.initialize_core_config()\n",
    "\n",
    "# establish database connection\n",
    "DBSQLiteConnection().configure_connection_information(**CoreConfig().get_sqlite3_db_connection_info())\n",
    "\n",
    "# create table if not exist\n",
    "CreatePOCTableIfNotExist().execute()"
   ]
  },
  {
   "cell_type": "code",
   "execution_count": 183,
   "metadata": {
    "extensions": {
     "jupyter_dashboards": {
      "version": 1,
      "views": {
       "grid_default": {},
       "report_default": {
        "hidden": true
       }
      }
     }
    }
   },
   "outputs": [],
   "source": [
    "DropTable('nab_poc_status').execute()"
   ]
  },
  {
   "cell_type": "code",
   "execution_count": 185,
   "metadata": {
    "extensions": {
     "jupyter_dashboards": {
      "version": 1,
      "views": {
       "grid_default": {},
       "report_default": {
        "hidden": true
       }
      }
     }
    }
   },
   "outputs": [],
   "source": [
    "InsertPOCRecord('POC_1', 'Old_Status').execute()\n",
    "InsertPOCRecord('POC_2', 'Old_Status').execute()\n",
    "InsertPOCRecord('POC_3', 'Old_Status').execute()\n",
    "InsertPOCRecord('POC_4', 'Old_Status').execute()\n",
    "InsertPOCRecord('POC_5', 'Old_Status').execute()"
   ]
  },
  {
   "cell_type": "code",
   "execution_count": 133,
   "metadata": {
    "extensions": {
     "jupyter_dashboards": {
      "version": 1,
      "views": {
       "grid_default": {},
       "report_default": {
        "hidden": true
       }
      }
     }
    }
   },
   "outputs": [],
   "source": [
    "UpdatePOCRecord('POC_1', 'New_Status').execute()"
   ]
  },
  {
   "cell_type": "code",
   "execution_count": 165,
   "metadata": {
    "extensions": {
     "jupyter_dashboards": {
      "version": 1,
      "views": {
       "grid_default": {},
       "report_default": {
        "hidden": true
       }
      }
     }
    }
   },
   "outputs": [],
   "source": []
  },
  {
   "cell_type": "code",
   "execution_count": 219,
   "metadata": {
    "extensions": {
     "jupyter_dashboards": {
      "version": 1,
      "views": {
       "grid_default": {},
       "report_default": {
        "hidden": false
       }
      }
     }
    }
   },
   "outputs": [
    {
     "data": {
      "application/vnd.jupyter.widget-view+json": {
       "model_id": "eef1d9906d0245118c538f6963572713",
       "version_major": 2,
       "version_minor": 0
      },
      "text/plain": [
       "A Jupyter Widget"
      ]
     },
     "metadata": {},
     "output_type": "display_data"
    },
    {
     "data": {
      "application/vnd.jupyter.widget-view+json": {
       "model_id": "2211c5448d3e4fa5b1bb0b75c0fec800",
       "version_major": 2,
       "version_minor": 0
      },
      "text/plain": [
       "A Jupyter Widget"
      ]
     },
     "metadata": {},
     "output_type": "display_data"
    }
   ],
   "source": [
    "df_out_poc = widgets.Output(layout={'border': '1px solid black', 'aligh_items' : 'center'})\n",
    "\n",
    "with df_out_poc:\n",
    "    df = DataFrame(FetchPOCRecordAll().execute(), columns=['POC_Name', 'POC_Status'])\n",
    "    display(df)\n",
    "\n",
    "\n",
    "POC_dict = {}\n",
    "POC_list = FetchPOCRecordAll().execute()\n",
    "for name in [row[0] for row in POC_list]:\n",
    "    POC_dict[name] = name\n",
    "    \n",
    "POC_Name = widgets.Dropdown(options= POC_dict,\n",
    "                           value = 'POC_1',\n",
    "                           description='Change status for:',\n",
    "                           layout=CustomStyling.box_layout,\n",
    "                           style=CustomStyling.style)\n",
    "\n",
    "default_status = 'New_Status'\n",
    "Status_Option = widgets.Dropdown(options= {'Old_Status': 'Old_Status',\n",
    "                                     'New_Status': 'New_Status'},\n",
    "                           value = default_status,\n",
    "                           description='Update status to:',\n",
    "                           layout=CustomStyling.box_layout,\n",
    "                           style=CustomStyling.style)\n",
    "\n",
    "\n",
    "\n",
    "\n",
    "\n",
    "button_to_update_form = widgets.Button(\n",
    "                       description='Update Form',\n",
    "                       disable=False,\n",
    "                       button_style ='', # success\n",
    "                       tooltip='Click me',\n",
    "                       icon='check'\n",
    "                       )\n",
    "\n",
    "def on_update_form_button_clicked_poc(b):\n",
    "    default_status = GetPOCStatus(POC_Name.value).execute()\n",
    "    Status_Option.value = default_status\n",
    "\n",
    "\n",
    "button_to_update_form.on_click(on_update_form_button_clicked_poc)\n",
    "\n",
    "\n",
    "\n",
    "\n",
    "\n",
    "\n",
    "\n",
    "button_poc = widgets.Button(\n",
    "           description='Update Status',\n",
    "           disable=False,\n",
    "           button_style ='', # success\n",
    "           tooltip='Click me',\n",
    "           icon='check'\n",
    "           )\n",
    "\n",
    "def on_submit_form_button_clicked_poc(b):\n",
    "#     outputs = { 'POC_Name' : [POC_Name.value],\n",
    "#                 'Status_Option' : [Status_Option.value]\n",
    "#                }\n",
    "    UpdatePOCRecord(POC_Name.value, Status_Option.value).execute()\n",
    "    df = DataFrame(FetchPOCRecordAll().execute(), columns=['POC_Name', 'POC_Status'])\n",
    "    df_out_poc.clear_output()\n",
    "    with df_out_poc:\n",
    "        display(df)\n",
    "        \n",
    "button_poc.on_click(on_submit_form_button_clicked_poc)\n",
    "\n",
    "\n",
    "\n",
    "\n",
    "\n",
    "# user interface organised using VBox (vertical)\n",
    "ui_poc = widgets.VBox(children=[df_out_poc,\n",
    "                            POC_Name,\n",
    "                            button_to_update_form,\n",
    "                            Status_Option,\n",
    "                            button_poc], layout=CustomStyling.items_layout)\n",
    "\n",
    "# live display of values, for debugging purposes\n",
    "def form_poc(POC_Name, Status_Option):\n",
    "    #display(POC_Name, Status_Option)\n",
    "    return POC_Name, Status_Option\n",
    "\n",
    "out_poc = interactive_output(form_poc, {'POC_Name': POC_Name,\n",
    "                                'Status_Option': Status_Option\n",
    "                               })\n",
    "\n",
    "display(ui_poc, out_poc)"
   ]
  },
  {
   "cell_type": "markdown",
   "metadata": {
    "extensions": {
     "jupyter_dashboards": {
      "version": 1,
      "views": {
       "grid_default": {
        "col": 0,
        "height": 4,
        "hidden": false,
        "row": 15,
        "width": 4
       },
       "report_default": {
        "hidden": false
       }
      }
     }
    }
   },
   "source": [
    "### Experiment"
   ]
  },
  {
   "cell_type": "code",
   "execution_count": null,
   "metadata": {
    "collapsed": true,
    "extensions": {
     "jupyter_dashboards": {
      "version": 1,
      "views": {
       "grid_default": {},
       "report_default": {
        "hidden": true
       }
      }
     }
    }
   },
   "outputs": [],
   "source": []
  },
  {
   "cell_type": "code",
   "execution_count": null,
   "metadata": {
    "collapsed": true,
    "extensions": {
     "jupyter_dashboards": {
      "version": 1,
      "views": {
       "grid_default": {},
       "report_default": {
        "hidden": true
       }
      }
     }
    }
   },
   "outputs": [],
   "source": []
  },
  {
   "cell_type": "code",
   "execution_count": null,
   "metadata": {
    "collapsed": true,
    "extensions": {
     "jupyter_dashboards": {
      "version": 1,
      "views": {
       "grid_default": {
        "hidden": true
       },
       "report_default": {
        "hidden": true
       }
      }
     }
    }
   },
   "outputs": [],
   "source": [
    "a = widgets.IntSlider(description='a', disabled=True)\n",
    "b = widgets.IntSlider(description='b')\n",
    "c = widgets.IntSlider(description='c')\n",
    "def f(a, b, c):\n",
    "    print('{}*{}*{}={}'.format(a, b, c, a*b*c))\n",
    "\n",
    "out = widgets.interactive_output(f, {'a': a, 'b': b, 'c': c})\n",
    "\n",
    "widgets.HBox([widgets.VBox([a, b, c]), out])"
   ]
  },
  {
   "cell_type": "code",
   "execution_count": null,
   "metadata": {
    "collapsed": true,
    "extensions": {
     "jupyter_dashboards": {
      "version": 1,
      "views": {
       "grid_default": {
        "hidden": true
       },
       "report_default": {
        "hidden": true
       }
      }
     }
    }
   },
   "outputs": [],
   "source": [
    "check_exper = widgets.Checkbox(\n",
    "    value=False,\n",
    "    description='Add new person',\n",
    "    disable = False)\n",
    "person_text_exper = widgets.Text(\n",
    "      value='',\n",
    "      placeholder='Type your name',\n",
    "      description='New person to be added:',\n",
    "      layout=box_layout,\n",
    "       style=style,\n",
    "      disabled=True)\n",
    "display(check_exper, person_text_exper)\n",
    "\n",
    "def on_value_change(change):\n",
    "    if change['new'] == True:\n",
    "        person_text_exper.disabled=False\n",
    "    else:\n",
    "        person_text_exper.disabled=True\n",
    "\n",
    "check_exper.observe(on_value_change, names='value')"
   ]
  },
  {
   "cell_type": "code",
   "execution_count": null,
   "metadata": {
    "collapsed": true,
    "extensions": {
     "jupyter_dashboards": {
      "version": 1,
      "views": {
       "grid_default": {
        "hidden": true
       },
       "report_default": {
        "hidden": true
       }
      }
     }
    }
   },
   "outputs": [],
   "source": [
    "expr_country = widgets.Dropdown(options= {'Australia': 'Australia',\n",
    "                                     'New Zealand': 'New Zealand',\n",
    "                                    'None':'None'},\n",
    "                                   value = 'Australia',\n",
    "                               description='Select country:',\n",
    "                               layout=box_layout,\n",
    "                               style=style)\n",
    "display(expr_country)"
   ]
  },
  {
   "cell_type": "code",
   "execution_count": null,
   "metadata": {
    "collapsed": true,
    "extensions": {
     "jupyter_dashboards": {
      "version": 1,
      "views": {
       "grid_default": {
        "hidden": true
       },
       "report_default": {
        "hidden": true
       }
      }
     }
    }
   },
   "outputs": [],
   "source": [
    "w = widgets.IntSlider()\n",
    "display(w)\n",
    "display(w)"
   ]
  }
 ],
 "metadata": {
  "celltoolbar": "Edit Metadata",
  "extensions": {
   "jupyter_dashboards": {
    "activeView": "report_default",
    "version": 1,
    "views": {
     "grid_default": {
      "cellMargin": 10,
      "defaultCellHeight": 20,
      "maxColumns": 12,
      "name": "grid",
      "type": "grid"
     },
     "report_default": {
      "name": "report",
      "type": "report"
     }
    }
   }
  },
  "gist": {
   "data": {
    "description": "Untitled.ipynb",
    "public": false
   },
   "id": ""
  },
  "kernelspec": {
   "display_name": "Python 3",
   "language": "python",
   "name": "python3"
  },
  "language_info": {
   "codemirror_mode": {
    "name": "ipython",
    "version": 3
   },
   "file_extension": ".py",
   "mimetype": "text/x-python",
   "name": "python",
   "nbconvert_exporter": "python",
   "pygments_lexer": "ipython3",
   "version": "3.6.3"
  },
  "latex_envs": {
   "LaTeX_envs_menu_present": true,
   "autoclose": true,
   "autocomplete": true,
   "bibliofile": "biblio.bib",
   "cite_by": "apalike",
   "current_citInitial": 1,
   "eqLabelWithNumbers": true,
   "eqNumInitial": 1,
   "hotkeys": {
    "equation": "Ctrl-E",
    "itemize": "Ctrl-I"
   },
   "labels_anchors": false,
   "latex_user_defs": false,
   "report_style_numbering": false,
   "user_envs_cfg": false
  },
  "toc": {
   "base_numbering": 1,
   "nav_menu": {},
   "number_sections": false,
   "sideBar": false,
   "skip_h1_title": false,
   "title_cell": "Table of Contents",
   "title_sidebar": "Contents",
   "toc_cell": false,
   "toc_position": {},
   "toc_section_display": false,
   "toc_window_display": false
  }
 },
 "nbformat": 4,
 "nbformat_minor": 2
}
