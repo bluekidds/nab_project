{
 "cells": [
  {
   "cell_type": "code",
   "execution_count": 1,
   "metadata": {
    "extensions": {
     "jupyter_dashboards": {
      "version": 1,
      "views": {
       "grid_default": {
        "hidden": true
       },
       "report_default": {}
      }
     }
    }
   },
   "outputs": [],
   "source": [
    "%load_ext autoreload\n",
    "%autoreload 2"
   ]
  },
  {
   "cell_type": "code",
   "execution_count": 2,
   "metadata": {
    "ExecuteTime": {
     "end_time": "2018-08-16T04:07:51.022401Z",
     "start_time": "2018-08-16T04:07:51.015831Z"
    },
    "collapse": true,
    "extensions": {
     "jupyter_dashboards": {
      "version": 1,
      "views": {
       "grid_default": {
        "hidden": true
       },
       "report_default": {}
      }
     }
    },
    "hide_input": true,
    "run_control": {
     "marked": true
    }
   },
   "outputs": [
    {
     "data": {
      "application/javascript": [
       "IPython.OutputArea.prototype._should_scroll = function(lines) {\n",
       "    return false\n",
       "}"
      ],
      "text/plain": [
       "<IPython.core.display.Javascript object>"
      ]
     },
     "metadata": {},
     "output_type": "display_data"
    }
   ],
   "source": [
    "%%javascript\n",
    "IPython.OutputArea.prototype._should_scroll = function(lines) {\n",
    "    return false\n",
    "}"
   ]
  },
  {
   "cell_type": "code",
   "execution_count": 3,
   "metadata": {
    "extensions": {
     "jupyter_dashboards": {
      "version": 1,
      "views": {
       "grid_default": {
        "hidden": true
       },
       "report_default": {}
      }
     }
    }
   },
   "outputs": [
    {
     "name": "stderr",
     "output_type": "stream",
     "text": [
      "Initialize nab ventures events board             table failed. Please Check your connection\n",
      "table nab_ventures_events_board already exists\n"
     ]
    }
   ],
   "source": [
    "from CoreConfig.CoreConfig import CoreConfig\n",
    "from DBUtility.DBUtility import DBSQLiteConnection, CreateEventsTableIfNotExist\n",
    "from DBUtility.DBUtility import FetchEventsRecordWithinSamePerson, FetchEventsLatestRecordWithSamePerson, FetchEventsRecordAll\n",
    "from DBUtility.DBUtility import InsertEventRecord\n",
    "from pandas import DataFrame\n",
    "import datetime\n",
    "CoreConfig.initialize_core_config()\n",
    "\n",
    "DBSQLiteConnection().configure_connection_information(**CoreConfig().get_sqlite3_db_connection_info())\n",
    "CreateEventsTableIfNotExist().execute()\n"
   ]
  },
  {
   "cell_type": "code",
   "execution_count": 4,
   "metadata": {
    "ExecuteTime": {
     "end_time": "2018-08-16T04:07:09.480996Z",
     "start_time": "2018-08-16T04:07:09.467320Z"
    },
    "code_folding": [],
    "extensions": {
     "jupyter_dashboards": {
      "version": 1,
      "views": {
       "grid_default": {
        "hidden": true
       },
       "report_default": {}
      }
     }
    },
    "hide_input": true,
    "hide_output": false,
    "run_control": {
     "marked": true
    },
    "slideshow": {
     "slide_type": "-"
    }
   },
   "outputs": [],
   "source": [
    "import ipywidgets as widgets\n",
    "from ipywidgets import interact, interactive, fixed, interact_manual, interactive_output\n",
    "from IPython.display import display_pretty\n",
    "import pandas as pd\n",
    "from ipywidgets import Layout, Button, Box\n",
    "\n",
    "items_layout = Layout(display='flex',\n",
    "                    flex_flow='auto',\n",
    "                     align_items='stretch',\n",
    "                      width='auto')     # override the default width of the button to 'auto' to let the button grow\n",
    "\n",
    "\n",
    "\n",
    "box_layout = Layout(display='flex',\n",
    "                    flex_flow='auto',\n",
    "                    align_items='center',\n",
    "                    width='auto')\n",
    "\n",
    "textarea_layout = Layout(display='flex',\n",
    "                    flex_flow='auto',\n",
    "                    align_items='center',\n",
    "                    width='auto',\n",
    "                    height='120px')\n",
    "\n",
    "style = {'description_width': 'initial'}\n",
    "person_dict = {'Todd':'Todd','Alice': 'Alice', 'Mitchell': 'Mitchell'}\n"
   ]
  },
  {
   "cell_type": "code",
   "execution_count": 5,
   "metadata": {
    "ExecuteTime": {
     "end_time": "2018-08-16T04:07:13.439641Z",
     "start_time": "2018-08-16T04:07:13.377064Z"
    },
    "code_folding": [
     0,
     7,
     15,
     24,
     35,
     59,
     60,
     72
    ],
    "extensions": {
     "jupyter_dashboards": {
      "version": 1,
      "views": {
       "grid_default": {
        "hidden": true
       },
       "report_default": {}
      }
     }
    },
    "hide_input": true,
    "hide_output": false,
    "run_control": {
     "marked": true
    },
    "scrolled": true
   },
   "outputs": [],
   "source": [
    "title = widgets.HTML(\"<center><H3>NAB DEALS Form</H3><center>\")\n",
    "formtitle = widgets.HTML(\"<center><H3>Submit Form</H3><center>\")\n",
    "df_out = widgets.Output(layout={'border': '1px solid black', 'aligh_items' : 'center'})\n",
    "#with df_out:\n",
    "#    df = DataFrame(FetchEventsLatestRecordWithSamePerson().execute(), columns=['Events Name', 'Person', 'Date'])\n",
    "#    display(df)\n",
    "events = widgets.Text(\n",
    "      value='',\n",
    "      placeholder='Type Events',\n",
    "      description='Events:',\n",
    "      layout=box_layout,\n",
    "       style=style,\n",
    "      disable=False)\n",
    "\n",
    "meeting = widgets.Checkbox(\n",
    "    value=False,\n",
    "    description='Board Meeting',\n",
    "    disabled=False\n",
    ")\n",
    "\n",
    "date = widgets.DatePicker(\n",
    "        value = datetime.datetime.now().date(),\n",
    "        description='Pick a Date',\n",
    "        layout=box_layout,\n",
    "        style = style,\n",
    "        disable=False)\n",
    "\n",
    "name=widgets.Text(\n",
    "    value='',\n",
    "    placeholder='Type company\\'s name',\n",
    "    description='Company:',\n",
    "    layout=box_layout,\n",
    "    style=style,\n",
    "    disable=False)\n",
    "\n",
    "notes=widgets.Text(\n",
    "      value='',\n",
    "      placeholder='Type note/organizer',\n",
    "      description='Note/ Organizer:',\n",
    "      layout=box_layout,\n",
    "       style=style,\n",
    "      disable=False)\n",
    "\n",
    "country = widgets.Dropdown(options= {'Australia': 'Australia',\n",
    "                                     'New Zealand': 'New Zealand',\n",
    "                                    'None':'None'},\n",
    "                           value = 'Australia',\n",
    "                           description='Select country:',\n",
    "                           layout=box_layout,\n",
    "                           style=style)\n",
    "audience= widgets.Text(value='0',\n",
    "                       placeholder='Type audience numbers',\n",
    "                       description='Audience:',\n",
    "                       layout=box_layout,\n",
    "                       style=style,\n",
    "                       disable=False)\n",
    "\n",
    "\n",
    "website= widgets.Text(value='https://',\n",
    "                       placeholder='Type website/context',\n",
    "                       description='Website:',\n",
    "                       layout=box_layout,\n",
    "                       style=style,\n",
    "                       disable=False)\n",
    "asset = widgets.Text(value='',\n",
    "                       placeholder='Type asset',\n",
    "                       description='Asset:',\n",
    "                       layout=box_layout,\n",
    "                       style=style,\n",
    "                       disable=False)\n",
    "\n",
    "person = widgets.Dropdown(\n",
    "                options= person_dict,\n",
    "                value='Todd',\n",
    "                description='Select your person:',\n",
    "                layout=box_layout,\n",
    "                style=style\n",
    "              )\n",
    "\n",
    "new_person_check = widgets.Checkbox(\n",
    "    value=False,\n",
    "    description='Add new person',\n",
    "    disable = False\n",
    ")\n",
    "new_person_text = widgets.Text(\n",
    "      value='',\n",
    "      placeholder='Type your name',\n",
    "      description='New person to be added:',\n",
    "      layout=box_layout,\n",
    "       style=style,\n",
    "      disabled=True)\n",
    "\n",
    "new_person_button = widgets.Button(\n",
    "    description='Submit',\n",
    "    disabled=True,\n",
    "    button_style ='', # success\n",
    "    tooltip='Click me',\n",
    "    icon='check')\n",
    "\n",
    "\n",
    "\n",
    "new_person_box = widgets.HBox([new_person_check, new_person_text, new_person_button])\n",
    "\n",
    "#business_problem = widgets.Textarea(\n",
    "#                   value='',\n",
    "#                    placeholder='Type your business problem here',\n",
    "#                    description='Describe your use case or what is your business problem?:',\n",
    "#                    layout=textarea_layout,\n",
    "#                    style=style,\n",
    "#                    disable=False)\n",
    "\n",
    "\n",
    "button = widgets.Button(\n",
    "           description='Submit the form',\n",
    "           disable=False,\n",
    "           button_style ='', # success\n",
    "           tooltip='Click me',\n",
    "           icon='check'\n",
    "           )\n",
    "\n",
    "def on_add_new_name_value_change(change):\n",
    "    if change['new'] == True:\n",
    "        new_person_text.disabled=False\n",
    "        new_person_button.disabled=False\n",
    "    else:\n",
    "        new_person_text.disabled=True\n",
    "        new_person_button.disabled=True\n",
    "\n",
    "\n",
    "def on_submit_add_new_name_button_clicked():\n",
    "    '''Check the local person_dict, if not included, \n",
    "    then added and refresh\n",
    "    '''\n",
    "    temp_variable = person.options.copy()\n",
    "    new_person = new_person_text.value\n",
    "    temp_variable[new_person] = new_person\n",
    "    person.options = temp_variable\n",
    "    new_person_check.value = False\n",
    "    new_person_text.disabled=True\n",
    "    new_person_button.disabled=True\n",
    "\n",
    "new_person_check.observe(on_add_new_name_value_change, names='value')\n",
    "new_person_button.on_click(on_submit_add_new_name_button_clicked)\n",
    "def on_submit_form_button_clicked(b):\n",
    "    outputs = {'events': [events.value],\n",
    "                'meeting' : [meeting.value],\n",
    "                'date': [date.value],\n",
    "                'name': [name.value],\n",
    "                'notes': [notes.value],\n",
    "                'country': [country.value],\n",
    "                'audience': [audience.value], \n",
    "                'website': [website.value],\n",
    "                'asset' : [asset.value],\n",
    "                'person' : [person.value]\n",
    "               }\n",
    "    InsertEventRecord(events.value, meeting.value, date.value, name.value, notes.value,\n",
    "                      country.value, audience.value, website.value, asset.value, person.value).execute()\n",
    "    df = DataFrame(FetchEventsLatestRecordWithSamePerson().execute(), columns=['Events Name', 'Person', 'Date'])\n",
    "    df_out.clear_output()\n",
    "    with df_out:\n",
    "        display(df)\n",
    "button.on_click(on_submit_form_button_clicked)"
   ]
  },
  {
   "cell_type": "code",
   "execution_count": 6,
   "metadata": {
    "extensions": {
     "jupyter_dashboards": {
      "version": 1,
      "views": {
       "grid_default": {
        "hidden": true
       },
       "report_default": {}
      }
     }
    }
   },
   "outputs": [],
   "source": [
    "def form(events, meeting, date, name, notes, country, audience, website, asset, person, new_person_name):\n",
    "    #display(events, meeting, date, name, notes, country, audience, website, asset, person)\n",
    "    return events, meeting, date, name, notes, country, audience, website, asset, person, new_person_name"
   ]
  },
  {
   "cell_type": "code",
   "execution_count": 7,
   "metadata": {
    "extensions": {
     "jupyter_dashboards": {
      "version": 1,
      "views": {
       "grid_default": {
        "hidden": true
       },
       "report_default": {}
      }
     }
    }
   },
   "outputs": [],
   "source": [
    "ui = widgets.VBox(children=[title,\n",
    "                            df_out,\n",
    "                            formtitle,\n",
    "                            events,\n",
    "                            meeting,\n",
    "                            date,\n",
    "                            name,\n",
    "                            notes,\n",
    "                            country,\n",
    "                            audience,\n",
    "                            website,\n",
    "                            asset,\n",
    "                            person,\n",
    "                            button,\n",
    "                            new_person_box], layout=items_layout)"
   ]
  },
  {
   "cell_type": "code",
   "execution_count": 8,
   "metadata": {
    "extensions": {
     "jupyter_dashboards": {
      "version": 1,
      "views": {
       "grid_default": {
        "col": 0,
        "height": 12,
        "hidden": false,
        "row": 0,
        "width": 4
       },
       "report_default": {}
      }
     }
    },
    "scrolled": false
   },
   "outputs": [
    {
     "data": {
      "application/vnd.jupyter.widget-view+json": {
       "model_id": "4e2a154353cd44ef901f01505e749430",
       "version_major": 2,
       "version_minor": 0
      },
      "text/plain": [
       "VBox(children=(HTML(value='<center><H3>NAB DEALS Form</H3><center>'), Output(layout=Layout(border='1px solid b…"
      ]
     },
     "metadata": {},
     "output_type": "display_data"
    },
    {
     "data": {
      "application/vnd.jupyter.widget-view+json": {
       "model_id": "9f858679bcad4cd090f527e6ee7738ee",
       "version_major": 2,
       "version_minor": 0
      },
      "text/plain": [
       "Output()"
      ]
     },
     "metadata": {},
     "output_type": "display_data"
    }
   ],
   "source": [
    "out = interactive_output(form, {'events': events,\n",
    "                                'meeting' : meeting,\n",
    "                                'date':date,\n",
    "                                'name':name,\n",
    "                                'notes':notes,\n",
    "                                'country':country,\n",
    "                                'audience': audience, \n",
    "                                'website': website,\n",
    "                                'asset' : asset,\n",
    "                                'person' : person,\n",
    "                                'new_person_name' : new_person_box.children[1]\n",
    "                               })\n",
    "display(ui, out)\n"
   ]
  },
  {
   "cell_type": "code",
   "execution_count": null,
   "metadata": {
    "extensions": {
     "jupyter_dashboards": {
      "version": 1,
      "views": {
       "grid_default": {
        "hidden": true
       },
       "report_default": {}
      }
     }
    }
   },
   "outputs": [],
   "source": [
    "person.options = {}"
   ]
  }
 ],
 "metadata": {
  "celltoolbar": "Edit Metadata",
  "extensions": {
   "jupyter_dashboards": {
    "activeView": "grid_default",
    "version": 1,
    "views": {
     "grid_default": {
      "cellMargin": 10,
      "defaultCellHeight": 20,
      "maxColumns": 12,
      "name": "grid",
      "type": "grid"
     },
     "report_default": {
      "name": "report",
      "type": "report"
     }
    }
   }
  },
  "gist": {
   "data": {
    "description": "Untitled.ipynb",
    "public": false
   },
   "id": ""
  },
  "kernelspec": {
   "display_name": "Python 3",
   "language": "python",
   "name": "python3"
  },
  "language_info": {
   "codemirror_mode": {
    "name": "ipython",
    "version": 3
   },
   "file_extension": ".py",
   "mimetype": "text/x-python",
   "name": "python",
   "nbconvert_exporter": "python",
   "pygments_lexer": "ipython3",
   "version": "3.6.5"
  },
  "latex_envs": {
   "LaTeX_envs_menu_present": true,
   "autoclose": true,
   "autocomplete": true,
   "bibliofile": "biblio.bib",
   "cite_by": "apalike",
   "current_citInitial": 1,
   "eqLabelWithNumbers": true,
   "eqNumInitial": 1,
   "hotkeys": {
    "equation": "Ctrl-E",
    "itemize": "Ctrl-I"
   },
   "labels_anchors": false,
   "latex_user_defs": false,
   "report_style_numbering": false,
   "user_envs_cfg": false
  },
  "toc": {
   "base_numbering": 1,
   "nav_menu": {},
   "number_sections": false,
   "sideBar": false,
   "skip_h1_title": false,
   "title_cell": "Table of Contents",
   "title_sidebar": "Contents",
   "toc_cell": false,
   "toc_position": {},
   "toc_section_display": false,
   "toc_window_display": false
  }
 },
 "nbformat": 4,
 "nbformat_minor": 2
}
