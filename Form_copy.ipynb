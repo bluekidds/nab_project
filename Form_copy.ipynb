{
 "cells": [
  {
   "cell_type": "code",
   "execution_count": 1,
   "metadata": {
    "ExecuteTime": {
     "end_time": "2018-08-16T04:07:51.022401Z",
     "start_time": "2018-08-16T04:07:51.015831Z"
    },
    "hide_input": true,
    "run_control": {
     "marked": true
    }
   },
   "outputs": [
    {
     "data": {
      "application/javascript": [
       "IPython.OutputArea.prototype._should_scroll = function(lines) {\n",
       "    return false\n",
       "}"
      ],
      "text/plain": [
       "<IPython.core.display.Javascript object>"
      ]
     },
     "metadata": {},
     "output_type": "display_data"
    }
   ],
   "source": [
    "%%javascript\n",
    "IPython.OutputArea.prototype._should_scroll = function(lines) {\n",
    "    return false\n",
    "}"
   ]
  },
  {
   "cell_type": "code",
   "execution_count": 2,
   "metadata": {
    "ExecuteTime": {
     "end_time": "2018-08-16T04:07:09.480996Z",
     "start_time": "2018-08-16T04:07:09.467320Z"
    },
    "code_folding": [],
    "hide_input": true,
    "hide_output": false,
    "run_control": {
     "marked": true
    },
    "slideshow": {
     "slide_type": "-"
    }
   },
   "outputs": [],
   "source": [
    "import ipywidgets as widgets\n",
    "from ipywidgets import interact, interactive, fixed, interact_manual, interactive_output\n",
    "from IPython.display import display_pretty\n",
    "\n",
    "from ipywidgets import Layout, Button, Box\n",
    "\n",
    "items_layout = Layout(display='flex',\n",
    "                    flex_flow='auto',\n",
    "                     align_items='stretch',\n",
    "                      width='auto')     # override the default width of the button to 'auto' to let the button grow\n",
    "\n",
    "\n",
    "\n",
    "box_layout = Layout(display='flex',\n",
    "                    flex_flow='auto',\n",
    "                    align_items='center',\n",
    "                    width='auto')\n",
    "\n",
    "textarea_layout = Layout(display='flex',\n",
    "                    flex_flow='auto',\n",
    "                    align_items='center',\n",
    "                    width='auto',\n",
    "                    height='120px')\n",
    "\n",
    "style = {'description_width': 'initial'}"
   ]
  },
  {
   "cell_type": "code",
   "execution_count": 3,
   "metadata": {
    "ExecuteTime": {
     "end_time": "2018-08-16T04:07:13.439641Z",
     "start_time": "2018-08-16T04:07:13.377064Z"
    },
    "code_folding": [
     0,
     7,
     15,
     24,
     35,
     59,
     60,
     72
    ],
    "hide_input": true,
    "hide_output": false,
    "run_control": {
     "marked": true
    },
    "scrolled": true
   },
   "outputs": [],
   "source": [
    "title = widgets.HTML(\"<center><H3>Submit Analytics Request/Use case</H3><center>\")\n",
    "date = widgets.DatePicker(\n",
    "        description='Pick a Date',\n",
    "        layout=box_layout,\n",
    "        style = style,\n",
    "        disable=False)\n",
    "\n",
    "date2b = widgets.Datetime()\n",
    "name=widgets.Text(\n",
    "      value='',\n",
    "      placeholder='Type your name',\n",
    "      description='Name:',\n",
    "      layout=box_layout,\n",
    "       style=style,\n",
    "      disable=False)\n",
    "#display_pretty(name)\n",
    "email=widgets.Text(\n",
    "      value='',\n",
    "      placeholder='Type email address',\n",
    "      description='Email Address:',\n",
    "      layout=box_layout,\n",
    "       style=style,\n",
    "      disable=False)\n",
    "#display_pretty(email)\n",
    "\n",
    "\n",
    "\n",
    "business_name = widgets.Dropdown(\n",
    "                options={'Digital Adoption':1,\n",
    "                        'Digital Sales': 2,\n",
    "                        'Digital Operations': 3,\n",
    "                        'Social Media':4},\n",
    "                value=2,\n",
    "                description='Select your business unit:',\n",
    "                layout=box_layout,\n",
    "                style=style\n",
    "              )\n",
    "\n",
    "business_name2= widgets.Text(\n",
    "    value='',\n",
    "    placeholder='Type your business unit',\n",
    "    description='What is your business unit if you selected Others:',\n",
    "    layout=box_layout,\n",
    "    style=style,\n",
    "    disable=False)\n",
    "\n",
    "business_problem = widgets.Textarea(\n",
    "                   value='',\n",
    "                    placeholder='Type your business problem here',\n",
    "                    description='Describe your use case or what is your business problem?:',\n",
    "                    layout=textarea_layout,\n",
    "                    style=style,\n",
    "                    disable=False)\n",
    "\n",
    "justify_problem = widgets.Textarea(\n",
    "                   value='',\n",
    "                    placeholder='Please justify this use case',\n",
    "                    description='Please justify busines value of this use case:',\n",
    "                    layout=textarea_layout,\n",
    "                    style=style,\n",
    "                    disable=False\n",
    ")\n",
    "\n",
    "category = widgets.Dropdown(\n",
    "                options={'Digital':1,\n",
    "                        'Mobile/Internet Banking': 2,\n",
    "                        'Business Banking': 3,\n",
    "                        'Wealth':4,\n",
    "                        'Technology & Operations':5,\n",
    "                        'Others':6},\n",
    "                value=1,\n",
    "                description='Which category does your request fall under:',\n",
    "                layout=box_layout,\n",
    "                style=style\n",
    "              )                  \n",
    "\n",
    "button = widgets.Button(\n",
    "           description='Submit',\n",
    "           disable=False,\n",
    "           button_style ='', # success\n",
    "           tooltip='Click me',\n",
    "           icon='check',\n",
    "           )"
   ]
  },
  {
   "cell_type": "code",
   "execution_count": 4,
   "metadata": {
    "ExecuteTime": {
     "end_time": "2018-08-16T04:07:28.880095Z",
     "start_time": "2018-08-16T04:07:28.875802Z"
    },
    "hide_input": true,
    "hide_output": false,
    "run_control": {
     "marked": true
    }
   },
   "outputs": [],
   "source": [
    "def f(date, name, email, business_name,business_name2,business_problem,justify_problem, category):\n",
    "    print(date, name, email, business_name,business_name2,business_problem,justify_problem, category)\n",
    "    return date, name, email, business_name,business_name2,business_problem,justify_problem, category"
   ]
  },
  {
   "cell_type": "code",
   "execution_count": 5,
   "metadata": {
    "ExecuteTime": {
     "end_time": "2018-08-16T04:07:31.766629Z",
     "start_time": "2018-08-16T04:07:31.757250Z"
    },
    "hide_input": true,
    "hide_output": false,
    "run_control": {
     "marked": true
    }
   },
   "outputs": [],
   "source": [
    "ui = widgets.VBox(children=[title, date, \n",
    "                   name, \n",
    "                   email,\n",
    "                   business_name, \n",
    "                   business_name2,\n",
    "                   business_problem, \n",
    "                   justify_problem,\n",
    "                   category,\n",
    "                   button\n",
    "                  ], layout=items_layout)"
   ]
  },
  {
   "cell_type": "code",
   "execution_count": 6,
   "metadata": {
    "ExecuteTime": {
     "end_time": "2018-08-16T04:07:34.516792Z",
     "start_time": "2018-08-16T04:07:34.489050Z"
    },
    "code_folding": [
     0
    ],
    "hide_input": true,
    "hide_output": false,
    "run_control": {
     "marked": true
    },
    "scrolled": true
   },
   "outputs": [
    {
     "data": {
      "application/vnd.jupyter.widget-view+json": {
       "model_id": "8760108c5584417a99fc64d195c15bb5",
       "version_major": 2,
       "version_minor": 0
      },
      "text/plain": [
       "VBox(children=(HTML(value='<center><H3>Submit Analytics Request/Use case</H3><center>'), DatePicker(value=None…"
      ]
     },
     "metadata": {},
     "output_type": "display_data"
    },
    {
     "data": {
      "application/vnd.jupyter.widget-view+json": {
       "model_id": "9b7831e534274bbf9ae876cdf6d497f3",
       "version_major": 2,
       "version_minor": 0
      },
      "text/plain": [
       "Output()"
      ]
     },
     "metadata": {},
     "output_type": "display_data"
    }
   ],
   "source": [
    "out = interactive_output(f, { 'date':date, \n",
    "                          'name':name,\n",
    "                          'email':email,\n",
    "                         'business_name':business_name,\n",
    "                         'business_name2':business_name2,\n",
    "                         'business_problem':business_problem,\n",
    "                         'justify_problem':justify_problem,\n",
    "                            'category':category})\n",
    "display(ui, out)"
   ]
  },
  {
   "cell_type": "code",
   "execution_count": 7,
   "metadata": {
    "hide_input": true,
    "run_control": {
     "marked": true
    }
   },
   "outputs": [
    {
     "data": {
      "text/plain": [
       "({'output_type': 'stream', 'text': 'None   3 test   1\\n', 'name': 'stdout'},)"
      ]
     },
     "execution_count": 7,
     "metadata": {},
     "output_type": "execute_result"
    }
   ],
   "source": [
    "out.outputs"
   ]
  },
  {
   "cell_type": "code",
   "execution_count": null,
   "metadata": {},
   "outputs": [],
   "source": []
  }
 ],
 "metadata": {
  "celltoolbar": "Slideshow",
  "gist": {
   "data": {
    "description": "Untitled.ipynb",
    "public": false
   },
   "id": ""
  },
  "kernelspec": {
   "display_name": "Python 3",
   "language": "python",
   "name": "python3"
  },
  "language_info": {
   "codemirror_mode": {
    "name": "ipython",
    "version": 3
   },
   "file_extension": ".py",
   "mimetype": "text/x-python",
   "name": "python",
   "nbconvert_exporter": "python",
   "pygments_lexer": "ipython3",
   "version": "3.6.5"
  },
  "latex_envs": {
   "LaTeX_envs_menu_present": true,
   "autoclose": true,
   "autocomplete": true,
   "bibliofile": "biblio.bib",
   "cite_by": "apalike",
   "current_citInitial": 1,
   "eqLabelWithNumbers": true,
   "eqNumInitial": 1,
   "hotkeys": {
    "equation": "Ctrl-E",
    "itemize": "Ctrl-I"
   },
   "labels_anchors": false,
   "latex_user_defs": false,
   "report_style_numbering": false,
   "user_envs_cfg": false
  },
  "toc": {
   "base_numbering": 1,
   "nav_menu": {},
   "number_sections": false,
   "sideBar": false,
   "skip_h1_title": false,
   "title_cell": "Table of Contents",
   "title_sidebar": "Contents",
   "toc_cell": false,
   "toc_position": {},
   "toc_section_display": false,
   "toc_window_display": false
  }
 },
 "nbformat": 4,
 "nbformat_minor": 2
}
